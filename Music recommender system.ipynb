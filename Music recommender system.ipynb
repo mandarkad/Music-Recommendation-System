{
 "cells": [
  {
   "cell_type": "markdown",
   "metadata": {},
   "source": [
    "# Music recommender system"
   ]
  },
  {
   "cell_type": "markdown",
   "metadata": {},
   "source": [
    "A **recommender system** is a type of information filtering system that suggests items to users based on their preferences and behavior. It uses data analysis techniques to understand a user's behavior and to predict what they might like or be interested in.\n",
    "\n",
    "There are two main types of recommender systems:\n",
    "\n",
    "**Content-based recommender systems**: This type of system analyzes the characteristics of the items a user has interacted with, such as the content of a movie or the genre of a book, to recommend similar items.\n",
    "\n",
    "**Collaborative filtering recommender systems**: This type of system analyzes the behavior of multiple users to recommend items that are popular among users with similar interests.\n",
    "\n",
    "Recommender systems are used in a variety of applications, such as e-commerce websites, social media platforms, and music and video streaming services, to personalize the user experience and improve engagement. They can also help businesses increase revenue by suggesting additional products or services that a user might be interested in."
   ]
  },
  {
   "cell_type": "markdown",
   "metadata": {},
   "source": [
    "# 1) Content-based recommender systems"
   ]
  },
  {
   "cell_type": "markdown",
   "metadata": {},
   "source": [
    "Recommendations done using content-based recommenders can be seen as a user-specific classification problem. This classifier learns the user's likes and dislikes from the features of the song.\n",
    "\n",
    "The most straightforward approach is **keyword matching**.\n",
    "\n",
    "In our case, because we are working with text and words, **Term Frequency-Inverse Document Frequency (TF-IDF)** can be used for this matching process.\n",
    "\n",
    "**(TF-IDF)** can be defined as the calculation of how relevant a word in a series or corpus is to a text. The meaning increases proportionally to the number of times in the text a word appears but is compensated by the word frequency in the corpus (data-set)."
   ]
  },
  {
   "cell_type": "markdown",
   "metadata": {},
   "source": [
    "#### Importing libraries"
   ]
  },
  {
   "cell_type": "code",
   "execution_count": 31,
   "metadata": {},
   "outputs": [],
   "source": [
    "import numpy as np\n",
    "import pandas as pd\n",
    "import matplotlib.pyplot as plt\n",
    "import seaborn as sns\n",
    "import warnings\n",
    "warnings.filterwarnings(\"ignore\")"
   ]
  },
  {
   "cell_type": "code",
   "execution_count": 2,
   "metadata": {},
   "outputs": [],
   "source": [
    "#from typing import List, Dict"
   ]
  },
  {
   "cell_type": "code",
   "execution_count": 3,
   "metadata": {},
   "outputs": [],
   "source": [
    "from sklearn.feature_extraction.text import TfidfVectorizer\n",
    "from sklearn.metrics.pairwise import cosine_similarity"
   ]
  },
  {
   "cell_type": "markdown",
   "metadata": {},
   "source": [
    "#### Loading dataset"
   ]
  },
  {
   "cell_type": "markdown",
   "metadata": {},
   "source": [
    "We collected the dataset from following github repository:\n",
    "https://github.com/ugis22/music_recommender/blob/master/content%20based%20recommedation%20system/songdata.csv"
   ]
  },
  {
   "cell_type": "code",
   "execution_count": 4,
   "metadata": {},
   "outputs": [],
   "source": [
    "data =  pd.read_csv('songdata.csv')"
   ]
  },
  {
   "cell_type": "code",
   "execution_count": 5,
   "metadata": {},
   "outputs": [
    {
     "data": {
      "text/html": [
       "<div>\n",
       "<style scoped>\n",
       "    .dataframe tbody tr th:only-of-type {\n",
       "        vertical-align: middle;\n",
       "    }\n",
       "\n",
       "    .dataframe tbody tr th {\n",
       "        vertical-align: top;\n",
       "    }\n",
       "\n",
       "    .dataframe thead th {\n",
       "        text-align: right;\n",
       "    }\n",
       "</style>\n",
       "<table border=\"1\" class=\"dataframe\">\n",
       "  <thead>\n",
       "    <tr style=\"text-align: right;\">\n",
       "      <th></th>\n",
       "      <th>artist</th>\n",
       "      <th>song</th>\n",
       "      <th>link</th>\n",
       "      <th>text</th>\n",
       "    </tr>\n",
       "  </thead>\n",
       "  <tbody>\n",
       "    <tr>\n",
       "      <td>0</td>\n",
       "      <td>ABBA</td>\n",
       "      <td>Ahe's My Kind Of Girl</td>\n",
       "      <td>/a/abba/ahes+my+kind+of+girl_20598417.html</td>\n",
       "      <td>Look at her face, it's a wonderful face  \\nAnd...</td>\n",
       "    </tr>\n",
       "    <tr>\n",
       "      <td>1</td>\n",
       "      <td>ABBA</td>\n",
       "      <td>Andante, Andante</td>\n",
       "      <td>/a/abba/andante+andante_20002708.html</td>\n",
       "      <td>Take it easy with me, please  \\nTouch me gentl...</td>\n",
       "    </tr>\n",
       "    <tr>\n",
       "      <td>2</td>\n",
       "      <td>ABBA</td>\n",
       "      <td>As Good As New</td>\n",
       "      <td>/a/abba/as+good+as+new_20003033.html</td>\n",
       "      <td>I'll never know why I had to go  \\nWhy I had t...</td>\n",
       "    </tr>\n",
       "    <tr>\n",
       "      <td>3</td>\n",
       "      <td>ABBA</td>\n",
       "      <td>Bang</td>\n",
       "      <td>/a/abba/bang_20598415.html</td>\n",
       "      <td>Making somebody happy is a question of give an...</td>\n",
       "    </tr>\n",
       "    <tr>\n",
       "      <td>4</td>\n",
       "      <td>ABBA</td>\n",
       "      <td>Bang-A-Boomerang</td>\n",
       "      <td>/a/abba/bang+a+boomerang_20002668.html</td>\n",
       "      <td>Making somebody happy is a question of give an...</td>\n",
       "    </tr>\n",
       "  </tbody>\n",
       "</table>\n",
       "</div>"
      ],
      "text/plain": [
       "  artist                   song                                        link  \\\n",
       "0   ABBA  Ahe's My Kind Of Girl  /a/abba/ahes+my+kind+of+girl_20598417.html   \n",
       "1   ABBA       Andante, Andante       /a/abba/andante+andante_20002708.html   \n",
       "2   ABBA         As Good As New        /a/abba/as+good+as+new_20003033.html   \n",
       "3   ABBA                   Bang                  /a/abba/bang_20598415.html   \n",
       "4   ABBA       Bang-A-Boomerang      /a/abba/bang+a+boomerang_20002668.html   \n",
       "\n",
       "                                                text  \n",
       "0  Look at her face, it's a wonderful face  \\nAnd...  \n",
       "1  Take it easy with me, please  \\nTouch me gentl...  \n",
       "2  I'll never know why I had to go  \\nWhy I had t...  \n",
       "3  Making somebody happy is a question of give an...  \n",
       "4  Making somebody happy is a question of give an...  "
      ]
     },
     "execution_count": 5,
     "metadata": {},
     "output_type": "execute_result"
    }
   ],
   "source": [
    "data.head()"
   ]
  },
  {
   "cell_type": "code",
   "execution_count": 6,
   "metadata": {},
   "outputs": [
    {
     "data": {
      "text/html": [
       "<div>\n",
       "<style scoped>\n",
       "    .dataframe tbody tr th:only-of-type {\n",
       "        vertical-align: middle;\n",
       "    }\n",
       "\n",
       "    .dataframe tbody tr th {\n",
       "        vertical-align: top;\n",
       "    }\n",
       "\n",
       "    .dataframe thead th {\n",
       "        text-align: right;\n",
       "    }\n",
       "</style>\n",
       "<table border=\"1\" class=\"dataframe\">\n",
       "  <thead>\n",
       "    <tr style=\"text-align: right;\">\n",
       "      <th></th>\n",
       "      <th>artist</th>\n",
       "      <th>song</th>\n",
       "      <th>link</th>\n",
       "      <th>text</th>\n",
       "    </tr>\n",
       "  </thead>\n",
       "  <tbody>\n",
       "    <tr>\n",
       "      <td>count</td>\n",
       "      <td>57650</td>\n",
       "      <td>57650</td>\n",
       "      <td>57650</td>\n",
       "      <td>57650</td>\n",
       "    </tr>\n",
       "    <tr>\n",
       "      <td>unique</td>\n",
       "      <td>643</td>\n",
       "      <td>44824</td>\n",
       "      <td>57650</td>\n",
       "      <td>57494</td>\n",
       "    </tr>\n",
       "    <tr>\n",
       "      <td>top</td>\n",
       "      <td>Donna Summer</td>\n",
       "      <td>Have Yourself A Merry Little Christmas</td>\n",
       "      <td>/e/eurythmics/royal+infirmary_20584934.html</td>\n",
       "      <td>Chestnuts roasting on an open fire  \\nJack Fro...</td>\n",
       "    </tr>\n",
       "    <tr>\n",
       "      <td>freq</td>\n",
       "      <td>191</td>\n",
       "      <td>35</td>\n",
       "      <td>1</td>\n",
       "      <td>6</td>\n",
       "    </tr>\n",
       "  </tbody>\n",
       "</table>\n",
       "</div>"
      ],
      "text/plain": [
       "              artist                                    song  \\\n",
       "count          57650                                   57650   \n",
       "unique           643                                   44824   \n",
       "top     Donna Summer  Have Yourself A Merry Little Christmas   \n",
       "freq             191                                      35   \n",
       "\n",
       "                                               link  \\\n",
       "count                                         57650   \n",
       "unique                                        57650   \n",
       "top     /e/eurythmics/royal+infirmary_20584934.html   \n",
       "freq                                              1   \n",
       "\n",
       "                                                     text  \n",
       "count                                               57650  \n",
       "unique                                              57494  \n",
       "top     Chestnuts roasting on an open fire  \\nJack Fro...  \n",
       "freq                                                    6  "
      ]
     },
     "execution_count": 6,
     "metadata": {},
     "output_type": "execute_result"
    }
   ],
   "source": [
    "data.describe()"
   ]
  },
  {
   "cell_type": "code",
   "execution_count": 7,
   "metadata": {},
   "outputs": [
    {
     "data": {
      "text/plain": [
       "(57650, 4)"
      ]
     },
     "execution_count": 7,
     "metadata": {},
     "output_type": "execute_result"
    }
   ],
   "source": [
    "data.shape"
   ]
  },
  {
   "cell_type": "markdown",
   "metadata": {},
   "source": [
    "This dataset contains name, artist, and lyrics for 57650 songs in English.\n",
    "\n",
    "Because of the dataset being so big, we are going to resample only 5000 random songs."
   ]
  },
  {
   "cell_type": "code",
   "execution_count": 8,
   "metadata": {},
   "outputs": [],
   "source": [
    "data = data.sample(n=5000).drop('link', axis=1).reset_index(drop=True)"
   ]
  },
  {
   "cell_type": "markdown",
   "metadata": {},
   "source": [
    "#### Data pre-processing"
   ]
  },
  {
   "cell_type": "code",
   "execution_count": 9,
   "metadata": {},
   "outputs": [
    {
     "data": {
      "text/plain": [
       "artist    0\n",
       "song      0\n",
       "text      0\n",
       "dtype: int64"
      ]
     },
     "execution_count": 9,
     "metadata": {},
     "output_type": "execute_result"
    }
   ],
   "source": [
    "data.isnull().sum()"
   ]
  },
  {
   "cell_type": "markdown",
   "metadata": {},
   "source": [
    "No null values found."
   ]
  },
  {
   "cell_type": "code",
   "execution_count": 10,
   "metadata": {},
   "outputs": [
    {
     "data": {
      "text/plain": [
       "artist    object\n",
       "song      object\n",
       "text      object\n",
       "dtype: object"
      ]
     },
     "execution_count": 10,
     "metadata": {},
     "output_type": "execute_result"
    }
   ],
   "source": [
    "data.dtypes"
   ]
  },
  {
   "cell_type": "markdown",
   "metadata": {},
   "source": [
    "Data types are appropriate."
   ]
  },
  {
   "cell_type": "code",
   "execution_count": 11,
   "metadata": {},
   "outputs": [
    {
     "data": {
      "text/plain": [
       "0"
      ]
     },
     "execution_count": 11,
     "metadata": {},
     "output_type": "execute_result"
    }
   ],
   "source": [
    "data.duplicated().sum()"
   ]
  },
  {
   "cell_type": "markdown",
   "metadata": {},
   "source": [
    "No duplicates."
   ]
  },
  {
   "cell_type": "markdown",
   "metadata": {},
   "source": [
    "We can notice also the presence of `\\n` in the text, so we are going to remove it."
   ]
  },
  {
   "cell_type": "code",
   "execution_count": 12,
   "metadata": {},
   "outputs": [],
   "source": [
    "data['text'] = data['text'].str.replace(r'\\n', '')"
   ]
  },
  {
   "cell_type": "markdown",
   "metadata": {},
   "source": [
    "#### Data Preparation"
   ]
  },
  {
   "cell_type": "markdown",
   "metadata": {},
   "source": [
    "We use TF-IDF vectorizer that calculates the TF-IDF score for each song lyric, word-by-word."
   ]
  },
  {
   "cell_type": "code",
   "execution_count": 13,
   "metadata": {},
   "outputs": [],
   "source": [
    "tfidf = TfidfVectorizer(analyzer='word', stop_words='english')"
   ]
  },
  {
   "cell_type": "code",
   "execution_count": 14,
   "metadata": {},
   "outputs": [],
   "source": [
    "lyrics_matrix = tfidf.fit_transform(data['text'])"
   ]
  },
  {
   "cell_type": "markdown",
   "metadata": {},
   "source": [
    "*How do we use this matrix for a recommendation?*\n",
    "\n",
    "We now need to calculate the similarity of one lyric to another. We are going to use **cosine similarity**.\n",
    "\n",
    "We want to calculate the cosine similarity of each item with every other item in the dataset. So we just pass the lyrics_matrix as argument."
   ]
  },
  {
   "cell_type": "code",
   "execution_count": 15,
   "metadata": {},
   "outputs": [],
   "source": [
    "cosine_similarities = cosine_similarity(lyrics_matrix) "
   ]
  },
  {
   "cell_type": "markdown",
   "metadata": {},
   "source": [
    "Once we get the similarities, we'll store in a dictionary the names of the 50 most similar songs for each song in our dataset."
   ]
  },
  {
   "cell_type": "code",
   "execution_count": 16,
   "metadata": {},
   "outputs": [],
   "source": [
    "similarities = {}"
   ]
  },
  {
   "cell_type": "code",
   "execution_count": 17,
   "metadata": {},
   "outputs": [],
   "source": [
    "\n",
    "for i in range(len(cosine_similarities)):\n",
    "    # Now we'll sort each element in cosine_similarities and get the indexes of the songs. \n",
    "    similar_indices = cosine_similarities[i].argsort()[:-50:-1] \n",
    "    # After that, we'll store in similarities each name of the 50 most similar songs.\n",
    "    # Except the first one that is the same song.\n",
    "    similarities[data['song'].iloc[i]] = [(cosine_similarities[i][x], data['song'][x], data['artist'][x]) for x in similar_indices][1:]"
   ]
  },
  {
   "cell_type": "markdown",
   "metadata": {},
   "source": [
    "We can use that similarity scores to access the most similar items and give a recommendation.\n",
    "\n",
    "For that, we'll define our Content based recommender class."
   ]
  },
  {
   "cell_type": "code",
   "execution_count": 18,
   "metadata": {},
   "outputs": [],
   "source": [
    "class ContentBasedRecommender:\n",
    "    def __init__(self, matrix):\n",
    "        self.matrix_similar = matrix\n",
    "\n",
    "    def _print_message(self, song, recom_song):\n",
    "        rec_items = len(recom_song)\n",
    "        \n",
    "        print(f'The {rec_items} recommended songs for {song} are:')\n",
    "        for i in range(rec_items):\n",
    "            print(f\"Number {i+1}:\")\n",
    "            print(f\"{recom_song[i][1]} by {recom_song[i][2]} with {round(recom_song[i][0], 3)} similarity score\") \n",
    "            print(\"--------------------\")\n",
    "        \n",
    "    def recommend(self, recommendation):\n",
    "        # Get song to find recommendations for\n",
    "        song = recommendation['song']\n",
    "        # Get number of songs to recommend\n",
    "        number_songs = recommendation['number_songs']\n",
    "        # Get the number of songs most similars from matrix similarities\n",
    "        recom_song = self.matrix_similar[song][:number_songs]\n",
    "        # print each item\n",
    "        self._print_message(song=song, recom_song=recom_song)"
   ]
  },
  {
   "cell_type": "markdown",
   "metadata": {},
   "source": [
    "Now, instantiate class."
   ]
  },
  {
   "cell_type": "code",
   "execution_count": 21,
   "metadata": {},
   "outputs": [],
   "source": [
    "recommedations = ContentBasedRecommender(similarities)"
   ]
  },
  {
   "cell_type": "markdown",
   "metadata": {},
   "source": [
    "Then, we are ready to pick a song from the dataset and make a recommendation."
   ]
  },
  {
   "cell_type": "code",
   "execution_count": 22,
   "metadata": {},
   "outputs": [],
   "source": [
    "recommendation = {\n",
    "    \"song\": data['song'].iloc[10],\n",
    "    \"number_songs\": 4 \n",
    "}"
   ]
  },
  {
   "cell_type": "code",
   "execution_count": 23,
   "metadata": {},
   "outputs": [
    {
     "name": "stdout",
     "output_type": "stream",
     "text": [
      "The 4 recommended songs for More Than Oxygen are:\n",
      "Number 1:\n",
      "This Is My Song by Scorpions with 0.244 similarity score\n",
      "--------------------\n",
      "Number 2:\n",
      "Need Your Love by Cheap Trick with 0.23 similarity score\n",
      "--------------------\n",
      "Number 3:\n",
      "What A Song by Tom T. Hall with 0.21 similarity score\n",
      "--------------------\n",
      "Number 4:\n",
      "Say The Word - I'll Be There by Kylie Minogue with 0.204 similarity score\n",
      "--------------------\n"
     ]
    }
   ],
   "source": [
    "recommedations.recommend(recommendation)"
   ]
  },
  {
   "cell_type": "markdown",
   "metadata": {},
   "source": [
    "Let's try a second one."
   ]
  },
  {
   "cell_type": "code",
   "execution_count": 24,
   "metadata": {},
   "outputs": [],
   "source": [
    "recommendation2 = {\n",
    "    \"song\": data['song'].iloc[120],\n",
    "    \"number_songs\": 4 \n",
    "}"
   ]
  },
  {
   "cell_type": "code",
   "execution_count": 25,
   "metadata": {},
   "outputs": [
    {
     "name": "stdout",
     "output_type": "stream",
     "text": [
      "The 4 recommended songs for Atin Cu Pung Singsing are:\n",
      "Number 1:\n",
      "Cinderella by Lionel Richie with 0.092 similarity score\n",
      "--------------------\n",
      "Number 2:\n",
      "Gonna Love Ya by Reba Mcentire with 0.074 similarity score\n",
      "--------------------\n",
      "Number 3:\n",
      "Arthur by Kinks with 0.068 similarity score\n",
      "--------------------\n",
      "Number 4:\n",
      "I'm Ready For You by Drake with 0.061 similarity score\n",
      "--------------------\n"
     ]
    }
   ],
   "source": [
    "recommedations.recommend(recommendation2)"
   ]
  },
  {
   "cell_type": "markdown",
   "metadata": {},
   "source": [
    "#### Disadvantages of content-based recommender system\n",
    "\n",
    "These algorithms try to recommend items similar to those that a user liked in the past. It does not rely on a user sign-in mechanism to generate this often temporary profile. As a result, the surprisal element is missing in the recommendation as same kind of content gets recommended."
   ]
  },
  {
   "cell_type": "markdown",
   "metadata": {},
   "source": [
    "# 2) Collaborative filtering"
   ]
  },
  {
   "cell_type": "markdown",
   "metadata": {},
   "source": [
    "The aim of this algorithm is to learn a function that can predict if a user will benefit from an item - meaning the user will likely buy, listen to, watch this item.\n",
    "\n",
    "Among collaborative-based systems, we can encounter two types: **user-item** filtering and **item-item** filtering.\n",
    "\n",
    "There are several machine learning algorithms that can be used in the case of collaborative filtering. Among them, we can mention nearest-neighbor, clustering, and matrix factorization.\n",
    "\n",
    "**K-Nearest Neighbors (kNN)** is considered the standard method when it comes to both user-based and item-based collaborative filtering approaches."
   ]
  },
  {
   "cell_type": "markdown",
   "metadata": {},
   "source": [
    "#### Importing libraries"
   ]
  },
  {
   "cell_type": "code",
   "execution_count": 26,
   "metadata": {},
   "outputs": [],
   "source": [
    "import numpy as np\n",
    "import pandas as pd\n",
    "import matplotlib.pyplot as plt\n",
    "import seaborn as sns\n",
    "import warnings\n",
    "warnings.filterwarnings(\"ignore\", category=FutureWarning)\n",
    "from scipy.sparse import csr_matrix"
   ]
  },
  {
   "cell_type": "markdown",
   "metadata": {},
   "source": [
    "#### Loading datasets"
   ]
  },
  {
   "cell_type": "markdown",
   "metadata": {},
   "source": [
    "The datasets are collected from **WSDM - KKBox's Music Recommendation Challenge** on Kaggle (link below).\n",
    "link : https://www.kaggle.com/competitions/kkbox-music-recommendation-challenge/overview\n",
    "\n",
    "There are 4 different datasets that we are going to use, merging them and extracting the desired features."
   ]
  },
  {
   "cell_type": "code",
   "execution_count": 27,
   "metadata": {},
   "outputs": [],
   "source": [
    "songs_df = pd.read_csv('songs.csv')\n",
    "songs_extra_df = pd.read_csv('song_extra_info.csv')\n",
    "members_df = pd.read_csv('members.csv')\n",
    "train_df = pd.read_csv('train.csv', nrows = 100000)"
   ]
  },
  {
   "cell_type": "markdown",
   "metadata": {},
   "source": [
    "#### Merging datasets"
   ]
  },
  {
   "cell_type": "code",
   "execution_count": 32,
   "metadata": {},
   "outputs": [],
   "source": [
    "t_s = pd.merge(train_df, songs_df, on='song_id', how='left')\n",
    "t_s_se = pd.merge(t_s, songs_extra_df, on='song_id', how='left')\n",
    "songs = pd.merge(t_s_se, members_df, on='msno', how='left')\n",
    "del songs_df, songs_extra_df, members_df, train_df, t_s, t_s_se"
   ]
  },
  {
   "cell_type": "markdown",
   "metadata": {},
   "source": [
    "Unwanted DataFrames are deleted while our final dataset is stored in the `songs` dataframe."
   ]
  },
  {
   "cell_type": "code",
   "execution_count": 33,
   "metadata": {},
   "outputs": [
    {
     "data": {
      "text/html": [
       "<div>\n",
       "<style scoped>\n",
       "    .dataframe tbody tr th:only-of-type {\n",
       "        vertical-align: middle;\n",
       "    }\n",
       "\n",
       "    .dataframe tbody tr th {\n",
       "        vertical-align: top;\n",
       "    }\n",
       "\n",
       "    .dataframe thead th {\n",
       "        text-align: right;\n",
       "    }\n",
       "</style>\n",
       "<table border=\"1\" class=\"dataframe\">\n",
       "  <thead>\n",
       "    <tr style=\"text-align: right;\">\n",
       "      <th></th>\n",
       "      <th>msno</th>\n",
       "      <th>song_id</th>\n",
       "      <th>source_system_tab</th>\n",
       "      <th>source_screen_name</th>\n",
       "      <th>source_type</th>\n",
       "      <th>target</th>\n",
       "      <th>song_length</th>\n",
       "      <th>genre_ids</th>\n",
       "      <th>artist_name</th>\n",
       "      <th>composer</th>\n",
       "      <th>lyricist</th>\n",
       "      <th>language</th>\n",
       "      <th>name</th>\n",
       "      <th>isrc</th>\n",
       "      <th>city</th>\n",
       "      <th>bd</th>\n",
       "      <th>gender</th>\n",
       "      <th>registered_via</th>\n",
       "      <th>registration_init_time</th>\n",
       "      <th>expiration_date</th>\n",
       "    </tr>\n",
       "  </thead>\n",
       "  <tbody>\n",
       "    <tr>\n",
       "      <td>0</td>\n",
       "      <td>FGtllVqz18RPiwJj/edr2gV78zirAiY/9SmYvia+kCg=</td>\n",
       "      <td>BBzumQNXUHKdEBOB7mAJuzok+IJA1c2Ryg/yzTF6tik=</td>\n",
       "      <td>explore</td>\n",
       "      <td>Explore</td>\n",
       "      <td>online-playlist</td>\n",
       "      <td>1</td>\n",
       "      <td>206471.0</td>\n",
       "      <td>359</td>\n",
       "      <td>Bastille</td>\n",
       "      <td>Dan Smith| Mark Crew</td>\n",
       "      <td>NaN</td>\n",
       "      <td>52.0</td>\n",
       "      <td>Good Grief</td>\n",
       "      <td>GBUM71602854</td>\n",
       "      <td>1</td>\n",
       "      <td>0</td>\n",
       "      <td>NaN</td>\n",
       "      <td>7</td>\n",
       "      <td>20120102</td>\n",
       "      <td>20171005</td>\n",
       "    </tr>\n",
       "    <tr>\n",
       "      <td>1</td>\n",
       "      <td>Xumu+NIjS6QYVxDS4/t3SawvJ7viT9hPKXmf0RtLNx8=</td>\n",
       "      <td>bhp/MpSNoqoxOIB+/l8WPqu6jldth4DIpCm3ayXnJqM=</td>\n",
       "      <td>my library</td>\n",
       "      <td>Local playlist more</td>\n",
       "      <td>local-playlist</td>\n",
       "      <td>1</td>\n",
       "      <td>284584.0</td>\n",
       "      <td>1259</td>\n",
       "      <td>Various Artists</td>\n",
       "      <td>NaN</td>\n",
       "      <td>NaN</td>\n",
       "      <td>52.0</td>\n",
       "      <td>Lords of Cardboard</td>\n",
       "      <td>US3C69910183</td>\n",
       "      <td>13</td>\n",
       "      <td>24</td>\n",
       "      <td>female</td>\n",
       "      <td>9</td>\n",
       "      <td>20110525</td>\n",
       "      <td>20170911</td>\n",
       "    </tr>\n",
       "    <tr>\n",
       "      <td>2</td>\n",
       "      <td>Xumu+NIjS6QYVxDS4/t3SawvJ7viT9hPKXmf0RtLNx8=</td>\n",
       "      <td>JNWfrrC7zNN7BdMpsISKa4Mw+xVJYNnxXh3/Epw7QgY=</td>\n",
       "      <td>my library</td>\n",
       "      <td>Local playlist more</td>\n",
       "      <td>local-playlist</td>\n",
       "      <td>1</td>\n",
       "      <td>225396.0</td>\n",
       "      <td>1259</td>\n",
       "      <td>Nas</td>\n",
       "      <td>N. Jones、W. Adams、J. Lordan、D. Ingle</td>\n",
       "      <td>NaN</td>\n",
       "      <td>52.0</td>\n",
       "      <td>Hip Hop Is Dead(Album Version (Edited))</td>\n",
       "      <td>USUM70618761</td>\n",
       "      <td>13</td>\n",
       "      <td>24</td>\n",
       "      <td>female</td>\n",
       "      <td>9</td>\n",
       "      <td>20110525</td>\n",
       "      <td>20170911</td>\n",
       "    </tr>\n",
       "    <tr>\n",
       "      <td>3</td>\n",
       "      <td>Xumu+NIjS6QYVxDS4/t3SawvJ7viT9hPKXmf0RtLNx8=</td>\n",
       "      <td>2A87tzfnJTSWqD7gIZHisolhe4DMdzkbd6LzO1KHjNs=</td>\n",
       "      <td>my library</td>\n",
       "      <td>Local playlist more</td>\n",
       "      <td>local-playlist</td>\n",
       "      <td>1</td>\n",
       "      <td>255512.0</td>\n",
       "      <td>1019</td>\n",
       "      <td>Soundway</td>\n",
       "      <td>Kwadwo Donkoh</td>\n",
       "      <td>NaN</td>\n",
       "      <td>-1.0</td>\n",
       "      <td>Disco Africa</td>\n",
       "      <td>GBUQH1000063</td>\n",
       "      <td>13</td>\n",
       "      <td>24</td>\n",
       "      <td>female</td>\n",
       "      <td>9</td>\n",
       "      <td>20110525</td>\n",
       "      <td>20170911</td>\n",
       "    </tr>\n",
       "    <tr>\n",
       "      <td>4</td>\n",
       "      <td>FGtllVqz18RPiwJj/edr2gV78zirAiY/9SmYvia+kCg=</td>\n",
       "      <td>3qm6XTZ6MOCU11x8FIVbAGH5l5uMkT3/ZalWG1oo2Gc=</td>\n",
       "      <td>explore</td>\n",
       "      <td>Explore</td>\n",
       "      <td>online-playlist</td>\n",
       "      <td>1</td>\n",
       "      <td>187802.0</td>\n",
       "      <td>1011</td>\n",
       "      <td>Brett Young</td>\n",
       "      <td>Brett Young| Kelly Archer| Justin Ebach</td>\n",
       "      <td>NaN</td>\n",
       "      <td>52.0</td>\n",
       "      <td>Sleep Without You</td>\n",
       "      <td>QM3E21606003</td>\n",
       "      <td>1</td>\n",
       "      <td>0</td>\n",
       "      <td>NaN</td>\n",
       "      <td>7</td>\n",
       "      <td>20120102</td>\n",
       "      <td>20171005</td>\n",
       "    </tr>\n",
       "  </tbody>\n",
       "</table>\n",
       "</div>"
      ],
      "text/plain": [
       "                                           msno  \\\n",
       "0  FGtllVqz18RPiwJj/edr2gV78zirAiY/9SmYvia+kCg=   \n",
       "1  Xumu+NIjS6QYVxDS4/t3SawvJ7viT9hPKXmf0RtLNx8=   \n",
       "2  Xumu+NIjS6QYVxDS4/t3SawvJ7viT9hPKXmf0RtLNx8=   \n",
       "3  Xumu+NIjS6QYVxDS4/t3SawvJ7viT9hPKXmf0RtLNx8=   \n",
       "4  FGtllVqz18RPiwJj/edr2gV78zirAiY/9SmYvia+kCg=   \n",
       "\n",
       "                                        song_id source_system_tab  \\\n",
       "0  BBzumQNXUHKdEBOB7mAJuzok+IJA1c2Ryg/yzTF6tik=           explore   \n",
       "1  bhp/MpSNoqoxOIB+/l8WPqu6jldth4DIpCm3ayXnJqM=        my library   \n",
       "2  JNWfrrC7zNN7BdMpsISKa4Mw+xVJYNnxXh3/Epw7QgY=        my library   \n",
       "3  2A87tzfnJTSWqD7gIZHisolhe4DMdzkbd6LzO1KHjNs=        my library   \n",
       "4  3qm6XTZ6MOCU11x8FIVbAGH5l5uMkT3/ZalWG1oo2Gc=           explore   \n",
       "\n",
       "    source_screen_name      source_type  target  song_length genre_ids  \\\n",
       "0              Explore  online-playlist       1     206471.0       359   \n",
       "1  Local playlist more   local-playlist       1     284584.0      1259   \n",
       "2  Local playlist more   local-playlist       1     225396.0      1259   \n",
       "3  Local playlist more   local-playlist       1     255512.0      1019   \n",
       "4              Explore  online-playlist       1     187802.0      1011   \n",
       "\n",
       "       artist_name                                 composer lyricist  \\\n",
       "0         Bastille                     Dan Smith| Mark Crew      NaN   \n",
       "1  Various Artists                                      NaN      NaN   \n",
       "2              Nas     N. Jones、W. Adams、J. Lordan、D. Ingle      NaN   \n",
       "3         Soundway                            Kwadwo Donkoh      NaN   \n",
       "4      Brett Young  Brett Young| Kelly Archer| Justin Ebach      NaN   \n",
       "\n",
       "   language                                     name          isrc  city  bd  \\\n",
       "0      52.0                               Good Grief  GBUM71602854     1   0   \n",
       "1      52.0                       Lords of Cardboard  US3C69910183    13  24   \n",
       "2      52.0  Hip Hop Is Dead(Album Version (Edited))  USUM70618761    13  24   \n",
       "3      -1.0                             Disco Africa  GBUQH1000063    13  24   \n",
       "4      52.0                        Sleep Without You  QM3E21606003     1   0   \n",
       "\n",
       "   gender  registered_via  registration_init_time  expiration_date  \n",
       "0     NaN               7                20120102         20171005  \n",
       "1  female               9                20110525         20170911  \n",
       "2  female               9                20110525         20170911  \n",
       "3  female               9                20110525         20170911  \n",
       "4     NaN               7                20120102         20171005  "
      ]
     },
     "execution_count": 33,
     "metadata": {},
     "output_type": "execute_result"
    }
   ],
   "source": [
    "songs.head(5)"
   ]
  },
  {
   "cell_type": "code",
   "execution_count": 34,
   "metadata": {},
   "outputs": [
    {
     "name": "stdout",
     "output_type": "stream",
     "text": [
      "<class 'pandas.core.frame.DataFrame'>\n",
      "Int64Index: 100000 entries, 0 to 99999\n",
      "Data columns (total 20 columns):\n",
      "msno                      100000 non-null object\n",
      "song_id                   100000 non-null object\n",
      "source_system_tab         99697 non-null object\n",
      "source_screen_name        95727 non-null object\n",
      "source_type               99805 non-null object\n",
      "target                    100000 non-null int64\n",
      "song_length               99996 non-null float64\n",
      "genre_ids                 98498 non-null object\n",
      "artist_name               99996 non-null object\n",
      "composer                  78528 non-null object\n",
      "lyricist                  59309 non-null object\n",
      "language                  99996 non-null float64\n",
      "name                      99991 non-null object\n",
      "isrc                      91475 non-null object\n",
      "city                      100000 non-null int64\n",
      "bd                        100000 non-null int64\n",
      "gender                    61328 non-null object\n",
      "registered_via            100000 non-null int64\n",
      "registration_init_time    100000 non-null int64\n",
      "expiration_date           100000 non-null int64\n",
      "dtypes: float64(2), int64(6), object(12)\n",
      "memory usage: 16.0+ MB\n"
     ]
    }
   ],
   "source": [
    "songs.info()"
   ]
  },
  {
   "cell_type": "markdown",
   "metadata": {},
   "source": [
    "#### Listing down the desired features from the dataset\n",
    "\n",
    "`msno`, `song_id`, `target`, `artist_name`, `composer`, `lyricist`, `name`\n",
    "\n",
    "and drop the rest."
   ]
  },
  {
   "cell_type": "code",
   "execution_count": 35,
   "metadata": {},
   "outputs": [],
   "source": [
    "songs.drop(songs.columns[[2, 3, 4, 6, 7, 11, 13, 14, 15, 16, 17, 18, 19]], axis=1, inplace=True)"
   ]
  },
  {
   "cell_type": "markdown",
   "metadata": {},
   "source": [
    "Then, we'll check how many observions there are in the dataset."
   ]
  },
  {
   "cell_type": "code",
   "execution_count": 36,
   "metadata": {},
   "outputs": [
    {
     "name": "stdout",
     "output_type": "stream",
     "text": [
      "There are 100000 observations in the dataset\n"
     ]
    }
   ],
   "source": [
    "print(f\"There are {songs.shape[0]} observations in the dataset\")"
   ]
  },
  {
   "cell_type": "markdown",
   "metadata": {},
   "source": [
    "#### Data cleaning"
   ]
  },
  {
   "cell_type": "markdown",
   "metadata": {},
   "source": [
    "Now, we should perform some cleaning steps."
   ]
  },
  {
   "cell_type": "code",
   "execution_count": 37,
   "metadata": {},
   "outputs": [
    {
     "data": {
      "text/plain": [
       "msno               0\n",
       "song_id            0\n",
       "target             0\n",
       "artist_name        4\n",
       "composer       21472\n",
       "lyricist       40691\n",
       "name               9\n",
       "dtype: int64"
      ]
     },
     "execution_count": 37,
     "metadata": {},
     "output_type": "execute_result"
    }
   ],
   "source": [
    "songs.isnull().sum()"
   ]
  },
  {
   "cell_type": "markdown",
   "metadata": {},
   "source": [
    "There are around 21% and 40% of the null values in `composer` and `lyricist`, respectively. So we'll drop them as well."
   ]
  },
  {
   "cell_type": "code",
   "execution_count": 38,
   "metadata": {},
   "outputs": [],
   "source": [
    "songs.drop(songs.columns[[4, 5]], axis=1, inplace=True)"
   ]
  },
  {
   "cell_type": "markdown",
   "metadata": {},
   "source": [
    "The 4 null values in `artist_name` and 9 in `name` can be treated by just dropping those rows from the dataset."
   ]
  },
  {
   "cell_type": "code",
   "execution_count": 39,
   "metadata": {},
   "outputs": [],
   "source": [
    "songs = songs.dropna(how='any',axis=0)"
   ]
  },
  {
   "cell_type": "code",
   "execution_count": 40,
   "metadata": {},
   "outputs": [
    {
     "data": {
      "text/plain": [
       "msno           0\n",
       "song_id        0\n",
       "target         0\n",
       "artist_name    0\n",
       "name           0\n",
       "dtype: int64"
      ]
     },
     "execution_count": 40,
     "metadata": {},
     "output_type": "execute_result"
    }
   ],
   "source": [
    "songs.isnull().sum()"
   ]
  },
  {
   "cell_type": "markdown",
   "metadata": {},
   "source": [
    "Check duplicated entries, if any."
   ]
  },
  {
   "cell_type": "code",
   "execution_count": 41,
   "metadata": {},
   "outputs": [
    {
     "data": {
      "text/plain": [
       "0"
      ]
     },
     "execution_count": 41,
     "metadata": {},
     "output_type": "execute_result"
    }
   ],
   "source": [
    "songs.duplicated().sum()"
   ]
  },
  {
   "cell_type": "code",
   "execution_count": 42,
   "metadata": {},
   "outputs": [
    {
     "data": {
      "text/plain": [
       "msno           object\n",
       "song_id        object\n",
       "target          int64\n",
       "artist_name    object\n",
       "name           object\n",
       "dtype: object"
      ]
     },
     "execution_count": 42,
     "metadata": {},
     "output_type": "execute_result"
    }
   ],
   "source": [
    "songs.dtypes"
   ]
  },
  {
   "cell_type": "markdown",
   "metadata": {},
   "source": [
    "#### Data Description"
   ]
  },
  {
   "cell_type": "markdown",
   "metadata": {},
   "source": [
    "Let's start exploring some characteristics of the dataset:"
   ]
  },
  {
   "cell_type": "markdown",
   "metadata": {},
   "source": [
    "#### Unique songs"
   ]
  },
  {
   "cell_type": "code",
   "execution_count": 43,
   "metadata": {},
   "outputs": [
    {
     "name": "stdout",
     "output_type": "stream",
     "text": [
      "There are 23887 unique songs in the dataset\n"
     ]
    }
   ],
   "source": [
    "unique_songs = songs['name'].unique().shape[0]\n",
    "print(f\"There are {unique_songs} unique songs in the dataset\")"
   ]
  },
  {
   "cell_type": "markdown",
   "metadata": {},
   "source": [
    "#### Unique artists"
   ]
  },
  {
   "cell_type": "code",
   "execution_count": 44,
   "metadata": {},
   "outputs": [
    {
     "name": "stdout",
     "output_type": "stream",
     "text": [
      "There are 5710 unique artists in the dataset\n"
     ]
    }
   ],
   "source": [
    "unique_artists = songs['artist_name'].unique().shape[0]\n",
    "print(f\"There are {unique_artists} unique artists in the dataset\")"
   ]
  },
  {
   "cell_type": "markdown",
   "metadata": {},
   "source": [
    "#### Unique users"
   ]
  },
  {
   "cell_type": "code",
   "execution_count": 45,
   "metadata": {},
   "outputs": [
    {
     "name": "stdout",
     "output_type": "stream",
     "text": [
      "There are 6197 unique users in the dataset\n"
     ]
    }
   ],
   "source": [
    "unique_users = songs['msno'].unique().shape[0]\n",
    "print(f\"There are {unique_users} unique users in the dataset\")"
   ]
  },
  {
   "cell_type": "markdown",
   "metadata": {},
   "source": [
    "We'll go ahead and explore the popularity of songs and artists."
   ]
  },
  {
   "cell_type": "markdown",
   "metadata": {},
   "source": [
    "#### Most popular songs"
   ]
  },
  {
   "cell_type": "markdown",
   "metadata": {},
   "source": [
    "For this task, we'll count how many times each song appears. Note that while we are using `target`, we only care about the number of rows, we don't consider the number of listen by single user."
   ]
  },
  {
   "cell_type": "code",
   "execution_count": 46,
   "metadata": {},
   "outputs": [],
   "source": [
    "# count how many rows we have by song, we show only the ten more popular songs \n",
    "ten_pop_songs = songs.groupby('name')['target'].count().reset_index().sort_values(['target', 'name'], ascending = [0,1])"
   ]
  },
  {
   "cell_type": "code",
   "execution_count": 47,
   "metadata": {},
   "outputs": [
    {
     "data": {
      "text/html": [
       "<div>\n",
       "<style scoped>\n",
       "    .dataframe tbody tr th:only-of-type {\n",
       "        vertical-align: middle;\n",
       "    }\n",
       "\n",
       "    .dataframe tbody tr th {\n",
       "        vertical-align: top;\n",
       "    }\n",
       "\n",
       "    .dataframe thead th {\n",
       "        text-align: right;\n",
       "    }\n",
       "</style>\n",
       "<table border=\"1\" class=\"dataframe\">\n",
       "  <thead>\n",
       "    <tr style=\"text-align: right;\">\n",
       "      <th></th>\n",
       "      <th>name</th>\n",
       "      <th>target</th>\n",
       "    </tr>\n",
       "  </thead>\n",
       "  <tbody>\n",
       "    <tr>\n",
       "      <td>14883</td>\n",
       "      <td>告白氣球</td>\n",
       "      <td>487</td>\n",
       "    </tr>\n",
       "    <tr>\n",
       "      <td>22312</td>\n",
       "      <td>謝謝妳愛我 (Thanks For Your Love)</td>\n",
       "      <td>415</td>\n",
       "    </tr>\n",
       "    <tr>\n",
       "      <td>16514</td>\n",
       "      <td>帥到分手</td>\n",
       "      <td>402</td>\n",
       "    </tr>\n",
       "    <tr>\n",
       "      <td>13820</td>\n",
       "      <td>你，好不好？ (How Have You Been?)</td>\n",
       "      <td>387</td>\n",
       "    </tr>\n",
       "    <tr>\n",
       "      <td>2137</td>\n",
       "      <td>Closer</td>\n",
       "      <td>357</td>\n",
       "    </tr>\n",
       "    <tr>\n",
       "      <td>13230</td>\n",
       "      <td>不該</td>\n",
       "      <td>352</td>\n",
       "    </tr>\n",
       "    <tr>\n",
       "      <td>23673</td>\n",
       "      <td>默</td>\n",
       "      <td>349</td>\n",
       "    </tr>\n",
       "    <tr>\n",
       "      <td>15820</td>\n",
       "      <td>好愛好散 (Blue Love Theme)</td>\n",
       "      <td>298</td>\n",
       "    </tr>\n",
       "    <tr>\n",
       "      <td>3261</td>\n",
       "      <td>Faded</td>\n",
       "      <td>282</td>\n",
       "    </tr>\n",
       "    <tr>\n",
       "      <td>16300</td>\n",
       "      <td>小幸運 (A little happiness)</td>\n",
       "      <td>279</td>\n",
       "    </tr>\n",
       "  </tbody>\n",
       "</table>\n",
       "</div>"
      ],
      "text/plain": [
       "                               name  target\n",
       "14883                          告白氣球     487\n",
       "22312  謝謝妳愛我 (Thanks For Your Love)     415\n",
       "16514                          帥到分手     402\n",
       "13820   你，好不好？ (How Have You Been?)     387\n",
       "2137                         Closer     357\n",
       "13230                            不該     352\n",
       "23673                             默     349\n",
       "15820        好愛好散 (Blue Love Theme)     298\n",
       "3261                          Faded     282\n",
       "16300      小幸運 (A little happiness)     279"
      ]
     },
     "execution_count": 47,
     "metadata": {},
     "output_type": "execute_result"
    }
   ],
   "source": [
    "ten_pop_songs = ten_pop_songs[:10]\n",
    "ten_pop_songs"
   ]
  },
  {
   "cell_type": "code",
   "execution_count": 48,
   "metadata": {},
   "outputs": [],
   "source": [
    "labels = ten_pop_songs['name'].tolist()\n",
    "counts = ten_pop_songs['target'].tolist()"
   ]
  },
  {
   "cell_type": "code",
   "execution_count": 49,
   "metadata": {},
   "outputs": [
    {
     "data": {
      "image/png": "[encoded data removed]",
      "text/plain": [
       "<Figure size 432x288 with 1 Axes>"
      ]
     },
     "metadata": {
      "needs_background": "light"
     },
     "output_type": "display_data"
    }
   ],
   "source": [
    "plt.figure()\n",
    "sns.barplot(x=counts, y=labels, palette='Set3')\n",
    "sns.despine(left=True, bottom=True)"
   ]
  },
  {
   "cell_type": "markdown",
   "metadata": {},
   "source": [
    "#### Most popular artist"
   ]
  },
  {
   "cell_type": "markdown",
   "metadata": {},
   "source": [
    "For the next task, we'll count how many times each artist appears. Again, we'll count how many times the same artist appears."
   ]
  },
  {
   "cell_type": "code",
   "execution_count": 50,
   "metadata": {},
   "outputs": [],
   "source": [
    "# count how many rows we have by artist name, we show only the ten more popular artist \n",
    "ten_pop_artists  = songs.groupby(['artist_name'])['target'].count().reset_index().sort_values(['target', 'artist_name'], ascending = [0,1])"
   ]
  },
  {
   "cell_type": "code",
   "execution_count": 51,
   "metadata": {},
   "outputs": [
    {
     "data": {
      "text/html": [
       "<div>\n",
       "<style scoped>\n",
       "    .dataframe tbody tr th:only-of-type {\n",
       "        vertical-align: middle;\n",
       "    }\n",
       "\n",
       "    .dataframe tbody tr th {\n",
       "        vertical-align: top;\n",
       "    }\n",
       "\n",
       "    .dataframe thead th {\n",
       "        text-align: right;\n",
       "    }\n",
       "</style>\n",
       "<table border=\"1\" class=\"dataframe\">\n",
       "  <thead>\n",
       "    <tr style=\"text-align: right;\">\n",
       "      <th></th>\n",
       "      <th>artist_name</th>\n",
       "      <th>target</th>\n",
       "    </tr>\n",
       "  </thead>\n",
       "  <tbody>\n",
       "    <tr>\n",
       "      <td>3756</td>\n",
       "      <td>Various Artists</td>\n",
       "      <td>3727</td>\n",
       "    </tr>\n",
       "    <tr>\n",
       "      <td>4270</td>\n",
       "      <td>周杰倫 (Jay Chou)</td>\n",
       "      <td>3404</td>\n",
       "    </tr>\n",
       "    <tr>\n",
       "      <td>4082</td>\n",
       "      <td>五月天 (Mayday)</td>\n",
       "      <td>2343</td>\n",
       "    </tr>\n",
       "    <tr>\n",
       "      <td>4757</td>\n",
       "      <td>林俊傑 (JJ Lin)</td>\n",
       "      <td>1778</td>\n",
       "    </tr>\n",
       "    <tr>\n",
       "      <td>5297</td>\n",
       "      <td>謝和弦 (R-chord)</td>\n",
       "      <td>1363</td>\n",
       "    </tr>\n",
       "    <tr>\n",
       "      <td>5008</td>\n",
       "      <td>玖壹壹</td>\n",
       "      <td>1159</td>\n",
       "    </tr>\n",
       "    <tr>\n",
       "      <td>5477</td>\n",
       "      <td>陳奕迅 (Eason Chan)</td>\n",
       "      <td>1036</td>\n",
       "    </tr>\n",
       "    <tr>\n",
       "      <td>3957</td>\n",
       "      <td>aMEI (張惠妹)</td>\n",
       "      <td>975</td>\n",
       "    </tr>\n",
       "    <tr>\n",
       "      <td>5023</td>\n",
       "      <td>田馥甄 (Hebe)</td>\n",
       "      <td>969</td>\n",
       "    </tr>\n",
       "    <tr>\n",
       "      <td>1141</td>\n",
       "      <td>Eric 周興哲</td>\n",
       "      <td>920</td>\n",
       "    </tr>\n",
       "  </tbody>\n",
       "</table>\n",
       "</div>"
      ],
      "text/plain": [
       "           artist_name  target\n",
       "3756   Various Artists    3727\n",
       "4270    周杰倫 (Jay Chou)    3404\n",
       "4082      五月天 (Mayday)    2343\n",
       "4757      林俊傑 (JJ Lin)    1778\n",
       "5297     謝和弦 (R-chord)    1363\n",
       "5008               玖壹壹    1159\n",
       "5477  陳奕迅 (Eason Chan)    1036\n",
       "3957        aMEI (張惠妹)     975\n",
       "5023        田馥甄 (Hebe)     969\n",
       "1141          Eric 周興哲     920"
      ]
     },
     "execution_count": 51,
     "metadata": {},
     "output_type": "execute_result"
    }
   ],
   "source": [
    "ten_pop_artists = ten_pop_artists[:10]\n",
    "ten_pop_artists"
   ]
  },
  {
   "cell_type": "code",
   "execution_count": 53,
   "metadata": {},
   "outputs": [
    {
     "data": {
      "image/png": "[encoded data removed]",
      "text/plain": [
       "<Figure size 432x288 with 1 Axes>"
      ]
     },
     "metadata": {
      "needs_background": "light"
     },
     "output_type": "display_data"
    }
   ],
   "source": [
    "plt.figure()\n",
    "labels = ten_pop_artists['artist_name'].tolist()\n",
    "counts = ten_pop_artists['target'].tolist()\n",
    "sns.barplot(x=counts, y=labels, palette='Set2')\n",
    "sns.despine(left=True, bottom=True)"
   ]
  },
  {
   "cell_type": "markdown",
   "metadata": {},
   "source": [
    "#### How many songs does a user listen in average?"
   ]
  },
  {
   "cell_type": "code",
   "execution_count": 54,
   "metadata": {},
   "outputs": [],
   "source": [
    "song_user = songs.groupby('msno')['song_id'].count()"
   ]
  },
  {
   "cell_type": "code",
   "execution_count": 55,
   "metadata": {},
   "outputs": [
    {
     "data": {
      "image/png": "[encoded data removed]",
      "text/plain": [
       "<Figure size 1152x576 with 1 Axes>"
      ]
     },
     "metadata": {
      "needs_background": "light"
     },
     "output_type": "display_data"
    }
   ],
   "source": [
    "plt.figure(figsize=(16, 8))\n",
    "sns.distplot(song_user.values, color='orange')\n",
    "plt.gca().spines['top'].set_visible(False)\n",
    "plt.gca().spines['right'].set_visible(False)\n",
    "plt.show();"
   ]
  },
  {
   "cell_type": "code",
   "execution_count": 56,
   "metadata": {},
   "outputs": [
    {
     "name": "stdout",
     "output_type": "stream",
     "text": [
      "A user listens to an average of 16.134742617395514 songs\n"
     ]
    }
   ],
   "source": [
    "print(f\"A user listens to an average of {np.mean(song_user)} songs\")"
   ]
  },
  {
   "cell_type": "code",
   "execution_count": 57,
   "metadata": {},
   "outputs": [
    {
     "name": "stdout",
     "output_type": "stream",
     "text": [
      "A user listens to an average of 16.134742617395514 songs, with minimum 1 and maximum 355 songs\n"
     ]
    }
   ],
   "source": [
    "print(f\"A user listens to an average of {np.mean(song_user)} songs, with minimum {np.min(song_user)} and maximum {np.max(song_user)} songs\")"
   ]
  },
  {
   "cell_type": "markdown",
   "metadata": {},
   "source": [
    "We can see that a user listens in average to 16 songs. Even the maximum amount of songs listen by an user is 355, and we have 23887 songs in our dataset."
   ]
  },
  {
   "cell_type": "markdown",
   "metadata": {},
   "source": [
    "So, not all user listen to all songs, so a lot of values in the `song x users` matrix are going to be zero. Thus, we’ll be dealing with extremely sparse data.\n",
    "\n",
    "How sparse? Let's check that:"
   ]
  },
  {
   "cell_type": "code",
   "execution_count": 58,
   "metadata": {},
   "outputs": [],
   "source": [
    "# Get how many values should it be if all songs have been listen by all users\n",
    "values_matrix = unique_users * unique_songs"
   ]
  },
  {
   "cell_type": "code",
   "execution_count": 60,
   "metadata": {},
   "outputs": [],
   "source": [
    "# Substract the total values with the actural shape of the DataFrame songs\n",
    "zero_values_matrix = values_matrix - songs.shape[0]"
   ]
  },
  {
   "cell_type": "code",
   "execution_count": 61,
   "metadata": {},
   "outputs": [
    {
     "name": "stdout",
     "output_type": "stream",
     "text": [
      "The matrix of users x songs has 147927752 values that are zero\n"
     ]
    }
   ],
   "source": [
    "print(f\"The matrix of users x songs has {zero_values_matrix} values that are zero\")"
   ]
  },
  {
   "cell_type": "markdown",
   "metadata": {},
   "source": [
    "Dealing with such a sparse matrix, we'll take a lot of memory and resources. To make our life easier, let's just select all those users that have listened to at least 16 songs."
   ]
  },
  {
   "cell_type": "markdown",
   "metadata": {},
   "source": [
    "#### Prepare data"
   ]
  },
  {
   "cell_type": "code",
   "execution_count": 62,
   "metadata": {},
   "outputs": [],
   "source": [
    "# Get users which have listen to at least 16 songs\n",
    "song_ten_id = song_user[song_user > 16].index.to_list()"
   ]
  },
  {
   "cell_type": "code",
   "execution_count": 63,
   "metadata": {},
   "outputs": [],
   "source": [
    "# Filtered the dataset to keep only those users with more than 16 listened\n",
    "song_id_more_ten = songs[songs['msno'].isin(song_ten_id)].reset_index(drop=True)"
   ]
  },
  {
   "cell_type": "code",
   "execution_count": 64,
   "metadata": {},
   "outputs": [],
   "source": [
    "# convert the dataframe into a pivot table\n",
    "songs_features = song_id_more_ten.pivot(index='song_id', columns='msno', values='target').fillna(0)\n",
    "\n",
    "# obtain a sparse matrix\n",
    "mat_songs_features = csr_matrix(songs_features.values)"
   ]
  },
  {
   "cell_type": "markdown",
   "metadata": {},
   "source": [
    "Let's take a look at the table `user x song`."
   ]
  },
  {
   "cell_type": "code",
   "execution_count": 74,
   "metadata": {},
   "outputs": [
    {
     "data": {
      "text/html": [
       "<div>\n",
       "<style scoped>\n",
       "    .dataframe tbody tr th:only-of-type {\n",
       "        vertical-align: middle;\n",
       "    }\n",
       "\n",
       "    .dataframe tbody tr th {\n",
       "        vertical-align: top;\n",
       "    }\n",
       "\n",
       "    .dataframe thead th {\n",
       "        text-align: right;\n",
       "    }\n",
       "</style>\n",
       "<table border=\"1\" class=\"dataframe\">\n",
       "  <thead>\n",
       "    <tr style=\"text-align: right;\">\n",
       "      <th>msno</th>\n",
       "      <th>+/SKX44s4ryWQzYzuV7ZKMXqIKQMN1cPz3M8CJ8CFKU=</th>\n",
       "      <th>+0B4aHABar5ltaWDG4M6KCzNxpD6wnsvZpvh+o9KgtE=</th>\n",
       "      <th>+2XBp2p9atTpyVPWac3SEEW41i8Xrnl7Utl/h8T4iOo=</th>\n",
       "      <th>+47I9cb7nrGOTd//sIc9prH7SEXA3ujNaL+1R5e1Hyo=</th>\n",
       "      <th>+7y3Yut0jtR9XNHSXNOgNy64F9bBF8pzBhN1fGIw23M=</th>\n",
       "      <th>+B+oiYLl5kv1IDNQv6PBkoh/Ar60ZjRfXQmUK7zvJO4=</th>\n",
       "      <th>+Ez0nI/qWfSARukmK2mqdW6rffcVoJf5y74BEo+7NQ0=</th>\n",
       "      <th>+LA1Ana39J4LFb+bRQJrdYsbTaeNGgFccPq0NsgTmhU=</th>\n",
       "      <th>+Op7cb8kCgBF5fMnisaSAIV71KhjMaFlwdQd0BM4OkY=</th>\n",
       "      <th>+R2/oqXFpOJfagOJDuDPjcdRy1VyDXVj88zUhhvONYQ=</th>\n",
       "      <th>...</th>\n",
       "      <th>zkx4wHRFZjeFuTgkglS1hSx8O6gPCwaoWppiimL2dHQ=</th>\n",
       "      <th>zlHBUBsWDaokMojjGy6ePkhan130FyKnXNIbuqriyFo=</th>\n",
       "      <th>zmyXj2YOKWLAeBxZApPKKGhVbvlTC5iNw0NuOftM2AY=</th>\n",
       "      <th>zn03Mbi/8Y7w6/gsnrUaym6NIMduThwnumGZ7Wl/uT4=</th>\n",
       "      <th>zn90b58dMYs6ZYFD81vffgSWFb/BfOY57eGZhjKad6o=</th>\n",
       "      <th>zpmMI7VnBhY9Y7NLV3YuqEzi5hkTGU784A29NOwIwE4=</th>\n",
       "      <th>zswCxzaeUrXgJnI3PqSp3i2u4BFbxevcbPzQPorYEW8=</th>\n",
       "      <th>zvwn/kCosrjvzwm0EjP0fkgeQh+SXLlOqypTUwTlLic=</th>\n",
       "      <th>zx51OvMA6lJ+iNxD6lZnUppO8ZKHhuKBIAgGXAObgqQ=</th>\n",
       "      <th>zyCQN/h38OmzYOsR6ecE+b7GFkO2eCHoxT1tXoFdUjA=</th>\n",
       "    </tr>\n",
       "    <tr>\n",
       "      <th>song_id</th>\n",
       "      <th></th>\n",
       "      <th></th>\n",
       "      <th></th>\n",
       "      <th></th>\n",
       "      <th></th>\n",
       "      <th></th>\n",
       "      <th></th>\n",
       "      <th></th>\n",
       "      <th></th>\n",
       "      <th></th>\n",
       "      <th></th>\n",
       "      <th></th>\n",
       "      <th></th>\n",
       "      <th></th>\n",
       "      <th></th>\n",
       "      <th></th>\n",
       "      <th></th>\n",
       "      <th></th>\n",
       "      <th></th>\n",
       "      <th></th>\n",
       "      <th></th>\n",
       "    </tr>\n",
       "  </thead>\n",
       "  <tbody>\n",
       "    <tr>\n",
       "      <td>++7GdTgp8zbQLYOki7hVPEOHpu+KLZClsGrGiEuL2uI=</td>\n",
       "      <td>0.0</td>\n",
       "      <td>0.0</td>\n",
       "      <td>0.0</td>\n",
       "      <td>0.0</td>\n",
       "      <td>0.0</td>\n",
       "      <td>0.0</td>\n",
       "      <td>0.0</td>\n",
       "      <td>0.0</td>\n",
       "      <td>0.0</td>\n",
       "      <td>0.0</td>\n",
       "      <td>...</td>\n",
       "      <td>0.0</td>\n",
       "      <td>0.0</td>\n",
       "      <td>0.0</td>\n",
       "      <td>0.0</td>\n",
       "      <td>0.0</td>\n",
       "      <td>0.0</td>\n",
       "      <td>0.0</td>\n",
       "      <td>0.0</td>\n",
       "      <td>0.0</td>\n",
       "      <td>0.0</td>\n",
       "    </tr>\n",
       "    <tr>\n",
       "      <td>++NP2gO99EW6w6sm4E1XP20nx8FhbBxsK9fOvbPHwd0=</td>\n",
       "      <td>0.0</td>\n",
       "      <td>0.0</td>\n",
       "      <td>0.0</td>\n",
       "      <td>0.0</td>\n",
       "      <td>0.0</td>\n",
       "      <td>0.0</td>\n",
       "      <td>0.0</td>\n",
       "      <td>0.0</td>\n",
       "      <td>0.0</td>\n",
       "      <td>0.0</td>\n",
       "      <td>...</td>\n",
       "      <td>0.0</td>\n",
       "      <td>0.0</td>\n",
       "      <td>0.0</td>\n",
       "      <td>0.0</td>\n",
       "      <td>0.0</td>\n",
       "      <td>0.0</td>\n",
       "      <td>0.0</td>\n",
       "      <td>0.0</td>\n",
       "      <td>0.0</td>\n",
       "      <td>0.0</td>\n",
       "    </tr>\n",
       "    <tr>\n",
       "      <td>++QfzyM/LiFaCuvkDFK/wJe13ZEMgTgAaVCcolo7nnY=</td>\n",
       "      <td>0.0</td>\n",
       "      <td>0.0</td>\n",
       "      <td>0.0</td>\n",
       "      <td>0.0</td>\n",
       "      <td>0.0</td>\n",
       "      <td>0.0</td>\n",
       "      <td>0.0</td>\n",
       "      <td>0.0</td>\n",
       "      <td>0.0</td>\n",
       "      <td>0.0</td>\n",
       "      <td>...</td>\n",
       "      <td>0.0</td>\n",
       "      <td>0.0</td>\n",
       "      <td>0.0</td>\n",
       "      <td>0.0</td>\n",
       "      <td>0.0</td>\n",
       "      <td>0.0</td>\n",
       "      <td>0.0</td>\n",
       "      <td>0.0</td>\n",
       "      <td>0.0</td>\n",
       "      <td>0.0</td>\n",
       "    </tr>\n",
       "    <tr>\n",
       "      <td>++chbCzz+7BYhLH5svRrj4AM37B1bTcC5O77wxODrVo=</td>\n",
       "      <td>0.0</td>\n",
       "      <td>0.0</td>\n",
       "      <td>0.0</td>\n",
       "      <td>0.0</td>\n",
       "      <td>0.0</td>\n",
       "      <td>0.0</td>\n",
       "      <td>0.0</td>\n",
       "      <td>0.0</td>\n",
       "      <td>0.0</td>\n",
       "      <td>0.0</td>\n",
       "      <td>...</td>\n",
       "      <td>0.0</td>\n",
       "      <td>0.0</td>\n",
       "      <td>0.0</td>\n",
       "      <td>0.0</td>\n",
       "      <td>0.0</td>\n",
       "      <td>0.0</td>\n",
       "      <td>0.0</td>\n",
       "      <td>0.0</td>\n",
       "      <td>0.0</td>\n",
       "      <td>0.0</td>\n",
       "    </tr>\n",
       "    <tr>\n",
       "      <td>++e0ms2cYxLeFjxP/I5Gjl1M68g6/xMCK6/HY8WxBwg=</td>\n",
       "      <td>0.0</td>\n",
       "      <td>0.0</td>\n",
       "      <td>0.0</td>\n",
       "      <td>0.0</td>\n",
       "      <td>0.0</td>\n",
       "      <td>0.0</td>\n",
       "      <td>0.0</td>\n",
       "      <td>0.0</td>\n",
       "      <td>0.0</td>\n",
       "      <td>0.0</td>\n",
       "      <td>...</td>\n",
       "      <td>0.0</td>\n",
       "      <td>0.0</td>\n",
       "      <td>0.0</td>\n",
       "      <td>0.0</td>\n",
       "      <td>0.0</td>\n",
       "      <td>0.0</td>\n",
       "      <td>0.0</td>\n",
       "      <td>0.0</td>\n",
       "      <td>0.0</td>\n",
       "      <td>0.0</td>\n",
       "    </tr>\n",
       "    <tr>\n",
       "      <td>++ezxSWRgPo7VimLbuChif2kuAZI5G6bmKuDdautYtw=</td>\n",
       "      <td>0.0</td>\n",
       "      <td>0.0</td>\n",
       "      <td>0.0</td>\n",
       "      <td>0.0</td>\n",
       "      <td>0.0</td>\n",
       "      <td>0.0</td>\n",
       "      <td>0.0</td>\n",
       "      <td>0.0</td>\n",
       "      <td>0.0</td>\n",
       "      <td>0.0</td>\n",
       "      <td>...</td>\n",
       "      <td>0.0</td>\n",
       "      <td>0.0</td>\n",
       "      <td>0.0</td>\n",
       "      <td>0.0</td>\n",
       "      <td>0.0</td>\n",
       "      <td>0.0</td>\n",
       "      <td>0.0</td>\n",
       "      <td>0.0</td>\n",
       "      <td>0.0</td>\n",
       "      <td>0.0</td>\n",
       "    </tr>\n",
       "    <tr>\n",
       "      <td>++k2aqGPJ7/9yGGPnlhalRdVulwbgHrLHNt1OD3rr9w=</td>\n",
       "      <td>0.0</td>\n",
       "      <td>0.0</td>\n",
       "      <td>0.0</td>\n",
       "      <td>0.0</td>\n",
       "      <td>0.0</td>\n",
       "      <td>0.0</td>\n",
       "      <td>0.0</td>\n",
       "      <td>0.0</td>\n",
       "      <td>0.0</td>\n",
       "      <td>0.0</td>\n",
       "      <td>...</td>\n",
       "      <td>0.0</td>\n",
       "      <td>0.0</td>\n",
       "      <td>0.0</td>\n",
       "      <td>0.0</td>\n",
       "      <td>0.0</td>\n",
       "      <td>0.0</td>\n",
       "      <td>0.0</td>\n",
       "      <td>0.0</td>\n",
       "      <td>0.0</td>\n",
       "      <td>0.0</td>\n",
       "    </tr>\n",
       "    <tr>\n",
       "      <td>++zVwIlQiLwQOLumYfwBvz0z8XQ+/Gu7Wkry54DDrxk=</td>\n",
       "      <td>0.0</td>\n",
       "      <td>0.0</td>\n",
       "      <td>0.0</td>\n",
       "      <td>0.0</td>\n",
       "      <td>0.0</td>\n",
       "      <td>0.0</td>\n",
       "      <td>0.0</td>\n",
       "      <td>0.0</td>\n",
       "      <td>0.0</td>\n",
       "      <td>0.0</td>\n",
       "      <td>...</td>\n",
       "      <td>0.0</td>\n",
       "      <td>0.0</td>\n",
       "      <td>0.0</td>\n",
       "      <td>0.0</td>\n",
       "      <td>0.0</td>\n",
       "      <td>0.0</td>\n",
       "      <td>0.0</td>\n",
       "      <td>0.0</td>\n",
       "      <td>0.0</td>\n",
       "      <td>0.0</td>\n",
       "    </tr>\n",
       "    <tr>\n",
       "      <td>+/6cHy+URZb0OhcMuP3r/KsmsSsiHKKTL0NA+K8IFtQ=</td>\n",
       "      <td>0.0</td>\n",
       "      <td>0.0</td>\n",
       "      <td>0.0</td>\n",
       "      <td>0.0</td>\n",
       "      <td>0.0</td>\n",
       "      <td>0.0</td>\n",
       "      <td>0.0</td>\n",
       "      <td>0.0</td>\n",
       "      <td>0.0</td>\n",
       "      <td>0.0</td>\n",
       "      <td>...</td>\n",
       "      <td>0.0</td>\n",
       "      <td>0.0</td>\n",
       "      <td>0.0</td>\n",
       "      <td>0.0</td>\n",
       "      <td>0.0</td>\n",
       "      <td>0.0</td>\n",
       "      <td>0.0</td>\n",
       "      <td>0.0</td>\n",
       "      <td>0.0</td>\n",
       "      <td>0.0</td>\n",
       "    </tr>\n",
       "    <tr>\n",
       "      <td>+/PIoXfl6Liwl3TJlq9NLhm40xAkW6wvKonjFijYh38=</td>\n",
       "      <td>0.0</td>\n",
       "      <td>0.0</td>\n",
       "      <td>0.0</td>\n",
       "      <td>0.0</td>\n",
       "      <td>0.0</td>\n",
       "      <td>0.0</td>\n",
       "      <td>0.0</td>\n",
       "      <td>0.0</td>\n",
       "      <td>0.0</td>\n",
       "      <td>0.0</td>\n",
       "      <td>...</td>\n",
       "      <td>0.0</td>\n",
       "      <td>0.0</td>\n",
       "      <td>0.0</td>\n",
       "      <td>0.0</td>\n",
       "      <td>0.0</td>\n",
       "      <td>0.0</td>\n",
       "      <td>0.0</td>\n",
       "      <td>0.0</td>\n",
       "      <td>0.0</td>\n",
       "      <td>0.0</td>\n",
       "    </tr>\n",
       "    <tr>\n",
       "      <td>+/ccRa2fetuCKRbkfxtpensnKBnig/6o5HpNHJHpHds=</td>\n",
       "      <td>0.0</td>\n",
       "      <td>0.0</td>\n",
       "      <td>0.0</td>\n",
       "      <td>0.0</td>\n",
       "      <td>0.0</td>\n",
       "      <td>0.0</td>\n",
       "      <td>0.0</td>\n",
       "      <td>0.0</td>\n",
       "      <td>0.0</td>\n",
       "      <td>0.0</td>\n",
       "      <td>...</td>\n",
       "      <td>0.0</td>\n",
       "      <td>0.0</td>\n",
       "      <td>0.0</td>\n",
       "      <td>0.0</td>\n",
       "      <td>0.0</td>\n",
       "      <td>0.0</td>\n",
       "      <td>0.0</td>\n",
       "      <td>0.0</td>\n",
       "      <td>0.0</td>\n",
       "      <td>0.0</td>\n",
       "    </tr>\n",
       "    <tr>\n",
       "      <td>+/eQ+RnO+weCVRUqD4FemhiSzByya7OwKwq1mCrn5OM=</td>\n",
       "      <td>0.0</td>\n",
       "      <td>0.0</td>\n",
       "      <td>0.0</td>\n",
       "      <td>0.0</td>\n",
       "      <td>0.0</td>\n",
       "      <td>0.0</td>\n",
       "      <td>0.0</td>\n",
       "      <td>0.0</td>\n",
       "      <td>0.0</td>\n",
       "      <td>0.0</td>\n",
       "      <td>...</td>\n",
       "      <td>0.0</td>\n",
       "      <td>0.0</td>\n",
       "      <td>0.0</td>\n",
       "      <td>0.0</td>\n",
       "      <td>0.0</td>\n",
       "      <td>0.0</td>\n",
       "      <td>0.0</td>\n",
       "      <td>0.0</td>\n",
       "      <td>0.0</td>\n",
       "      <td>0.0</td>\n",
       "    </tr>\n",
       "    <tr>\n",
       "      <td>+/h007EQIhRD6SmFiCIDQe4iVkwZ962aYCKPEod4P1k=</td>\n",
       "      <td>0.0</td>\n",
       "      <td>0.0</td>\n",
       "      <td>0.0</td>\n",
       "      <td>0.0</td>\n",
       "      <td>0.0</td>\n",
       "      <td>0.0</td>\n",
       "      <td>0.0</td>\n",
       "      <td>0.0</td>\n",
       "      <td>0.0</td>\n",
       "      <td>0.0</td>\n",
       "      <td>...</td>\n",
       "      <td>0.0</td>\n",
       "      <td>0.0</td>\n",
       "      <td>0.0</td>\n",
       "      <td>0.0</td>\n",
       "      <td>0.0</td>\n",
       "      <td>0.0</td>\n",
       "      <td>0.0</td>\n",
       "      <td>0.0</td>\n",
       "      <td>0.0</td>\n",
       "      <td>0.0</td>\n",
       "    </tr>\n",
       "    <tr>\n",
       "      <td>+00skobQwnJk5A7n7k3JYO7Qcs+wiYDGvbHZ33K8dHk=</td>\n",
       "      <td>0.0</td>\n",
       "      <td>0.0</td>\n",
       "      <td>0.0</td>\n",
       "      <td>0.0</td>\n",
       "      <td>0.0</td>\n",
       "      <td>0.0</td>\n",
       "      <td>0.0</td>\n",
       "      <td>0.0</td>\n",
       "      <td>0.0</td>\n",
       "      <td>0.0</td>\n",
       "      <td>...</td>\n",
       "      <td>0.0</td>\n",
       "      <td>0.0</td>\n",
       "      <td>0.0</td>\n",
       "      <td>0.0</td>\n",
       "      <td>0.0</td>\n",
       "      <td>0.0</td>\n",
       "      <td>0.0</td>\n",
       "      <td>0.0</td>\n",
       "      <td>0.0</td>\n",
       "      <td>0.0</td>\n",
       "    </tr>\n",
       "    <tr>\n",
       "      <td>+0BxvX5gzcaHvn25x3BBVZWp3+A3TGPTnPXEdumTsKg=</td>\n",
       "      <td>0.0</td>\n",
       "      <td>0.0</td>\n",
       "      <td>0.0</td>\n",
       "      <td>0.0</td>\n",
       "      <td>0.0</td>\n",
       "      <td>0.0</td>\n",
       "      <td>0.0</td>\n",
       "      <td>0.0</td>\n",
       "      <td>0.0</td>\n",
       "      <td>0.0</td>\n",
       "      <td>...</td>\n",
       "      <td>0.0</td>\n",
       "      <td>0.0</td>\n",
       "      <td>0.0</td>\n",
       "      <td>0.0</td>\n",
       "      <td>0.0</td>\n",
       "      <td>0.0</td>\n",
       "      <td>0.0</td>\n",
       "      <td>0.0</td>\n",
       "      <td>0.0</td>\n",
       "      <td>0.0</td>\n",
       "    </tr>\n",
       "    <tr>\n",
       "      <td>+0dgMEGn6S+g5/Jy+CnYukqlUY08Q+NN0/frwJq4rAQ=</td>\n",
       "      <td>0.0</td>\n",
       "      <td>0.0</td>\n",
       "      <td>0.0</td>\n",
       "      <td>0.0</td>\n",
       "      <td>0.0</td>\n",
       "      <td>0.0</td>\n",
       "      <td>0.0</td>\n",
       "      <td>0.0</td>\n",
       "      <td>0.0</td>\n",
       "      <td>0.0</td>\n",
       "      <td>...</td>\n",
       "      <td>0.0</td>\n",
       "      <td>0.0</td>\n",
       "      <td>0.0</td>\n",
       "      <td>0.0</td>\n",
       "      <td>0.0</td>\n",
       "      <td>0.0</td>\n",
       "      <td>0.0</td>\n",
       "      <td>0.0</td>\n",
       "      <td>0.0</td>\n",
       "      <td>0.0</td>\n",
       "    </tr>\n",
       "    <tr>\n",
       "      <td>+0mTGQqRUruyn6ovws2qJ/PCpz+WlQ6QB8tc9psDuK4=</td>\n",
       "      <td>0.0</td>\n",
       "      <td>0.0</td>\n",
       "      <td>0.0</td>\n",
       "      <td>0.0</td>\n",
       "      <td>0.0</td>\n",
       "      <td>0.0</td>\n",
       "      <td>0.0</td>\n",
       "      <td>0.0</td>\n",
       "      <td>0.0</td>\n",
       "      <td>0.0</td>\n",
       "      <td>...</td>\n",
       "      <td>0.0</td>\n",
       "      <td>0.0</td>\n",
       "      <td>0.0</td>\n",
       "      <td>0.0</td>\n",
       "      <td>0.0</td>\n",
       "      <td>0.0</td>\n",
       "      <td>0.0</td>\n",
       "      <td>0.0</td>\n",
       "      <td>0.0</td>\n",
       "      <td>0.0</td>\n",
       "    </tr>\n",
       "    <tr>\n",
       "      <td>+1+wPQaxvBIJDnbhaxkqWdN9s7iHtiY5aC452GfKGrU=</td>\n",
       "      <td>0.0</td>\n",
       "      <td>0.0</td>\n",
       "      <td>0.0</td>\n",
       "      <td>0.0</td>\n",
       "      <td>0.0</td>\n",
       "      <td>0.0</td>\n",
       "      <td>0.0</td>\n",
       "      <td>0.0</td>\n",
       "      <td>0.0</td>\n",
       "      <td>0.0</td>\n",
       "      <td>...</td>\n",
       "      <td>0.0</td>\n",
       "      <td>0.0</td>\n",
       "      <td>0.0</td>\n",
       "      <td>0.0</td>\n",
       "      <td>0.0</td>\n",
       "      <td>0.0</td>\n",
       "      <td>0.0</td>\n",
       "      <td>0.0</td>\n",
       "      <td>0.0</td>\n",
       "      <td>0.0</td>\n",
       "    </tr>\n",
       "    <tr>\n",
       "      <td>+11cGGhMIN0QqBhZoO3ijrUr/pMXwM1zEQzYWWE00OA=</td>\n",
       "      <td>0.0</td>\n",
       "      <td>0.0</td>\n",
       "      <td>0.0</td>\n",
       "      <td>0.0</td>\n",
       "      <td>0.0</td>\n",
       "      <td>0.0</td>\n",
       "      <td>0.0</td>\n",
       "      <td>0.0</td>\n",
       "      <td>0.0</td>\n",
       "      <td>0.0</td>\n",
       "      <td>...</td>\n",
       "      <td>0.0</td>\n",
       "      <td>0.0</td>\n",
       "      <td>0.0</td>\n",
       "      <td>0.0</td>\n",
       "      <td>0.0</td>\n",
       "      <td>0.0</td>\n",
       "      <td>0.0</td>\n",
       "      <td>0.0</td>\n",
       "      <td>0.0</td>\n",
       "      <td>0.0</td>\n",
       "    </tr>\n",
       "    <tr>\n",
       "      <td>+13MfPvGv321Qw5smYDQ4UTxu1OTjQMRiLcbJAtdECo=</td>\n",
       "      <td>0.0</td>\n",
       "      <td>0.0</td>\n",
       "      <td>0.0</td>\n",
       "      <td>0.0</td>\n",
       "      <td>0.0</td>\n",
       "      <td>0.0</td>\n",
       "      <td>0.0</td>\n",
       "      <td>0.0</td>\n",
       "      <td>0.0</td>\n",
       "      <td>0.0</td>\n",
       "      <td>...</td>\n",
       "      <td>0.0</td>\n",
       "      <td>0.0</td>\n",
       "      <td>0.0</td>\n",
       "      <td>0.0</td>\n",
       "      <td>0.0</td>\n",
       "      <td>0.0</td>\n",
       "      <td>0.0</td>\n",
       "      <td>0.0</td>\n",
       "      <td>0.0</td>\n",
       "      <td>0.0</td>\n",
       "    </tr>\n",
       "  </tbody>\n",
       "</table>\n",
       "<p>20 rows × 1960 columns</p>\n",
       "</div>"
      ],
      "text/plain": [
       "msno                                          +/SKX44s4ryWQzYzuV7ZKMXqIKQMN1cPz3M8CJ8CFKU=  \\\n",
       "song_id                                                                                      \n",
       "++7GdTgp8zbQLYOki7hVPEOHpu+KLZClsGrGiEuL2uI=                                           0.0   \n",
       "++NP2gO99EW6w6sm4E1XP20nx8FhbBxsK9fOvbPHwd0=                                           0.0   \n",
       "++QfzyM/LiFaCuvkDFK/wJe13ZEMgTgAaVCcolo7nnY=                                           0.0   \n",
       "++chbCzz+7BYhLH5svRrj4AM37B1bTcC5O77wxODrVo=                                           0.0   \n",
       "++e0ms2cYxLeFjxP/I5Gjl1M68g6/xMCK6/HY8WxBwg=                                           0.0   \n",
       "++ezxSWRgPo7VimLbuChif2kuAZI5G6bmKuDdautYtw=                                           0.0   \n",
       "++k2aqGPJ7/9yGGPnlhalRdVulwbgHrLHNt1OD3rr9w=                                           0.0   \n",
       "++zVwIlQiLwQOLumYfwBvz0z8XQ+/Gu7Wkry54DDrxk=                                           0.0   \n",
       "+/6cHy+URZb0OhcMuP3r/KsmsSsiHKKTL0NA+K8IFtQ=                                           0.0   \n",
       "+/PIoXfl6Liwl3TJlq9NLhm40xAkW6wvKonjFijYh38=                                           0.0   \n",
       "+/ccRa2fetuCKRbkfxtpensnKBnig/6o5HpNHJHpHds=                                           0.0   \n",
       "+/eQ+RnO+weCVRUqD4FemhiSzByya7OwKwq1mCrn5OM=                                           0.0   \n",
       "+/h007EQIhRD6SmFiCIDQe4iVkwZ962aYCKPEod4P1k=                                           0.0   \n",
       "+00skobQwnJk5A7n7k3JYO7Qcs+wiYDGvbHZ33K8dHk=                                           0.0   \n",
       "+0BxvX5gzcaHvn25x3BBVZWp3+A3TGPTnPXEdumTsKg=                                           0.0   \n",
       "+0dgMEGn6S+g5/Jy+CnYukqlUY08Q+NN0/frwJq4rAQ=                                           0.0   \n",
       "+0mTGQqRUruyn6ovws2qJ/PCpz+WlQ6QB8tc9psDuK4=                                           0.0   \n",
       "+1+wPQaxvBIJDnbhaxkqWdN9s7iHtiY5aC452GfKGrU=                                           0.0   \n",
       "+11cGGhMIN0QqBhZoO3ijrUr/pMXwM1zEQzYWWE00OA=                                           0.0   \n",
       "+13MfPvGv321Qw5smYDQ4UTxu1OTjQMRiLcbJAtdECo=                                           0.0   \n",
       "\n",
       "msno                                          +0B4aHABar5ltaWDG4M6KCzNxpD6wnsvZpvh+o9KgtE=  \\\n",
       "song_id                                                                                      \n",
       "++7GdTgp8zbQLYOki7hVPEOHpu+KLZClsGrGiEuL2uI=                                           0.0   \n",
       "++NP2gO99EW6w6sm4E1XP20nx8FhbBxsK9fOvbPHwd0=                                           0.0   \n",
       "++QfzyM/LiFaCuvkDFK/wJe13ZEMgTgAaVCcolo7nnY=                                           0.0   \n",
       "++chbCzz+7BYhLH5svRrj4AM37B1bTcC5O77wxODrVo=                                           0.0   \n",
       "++e0ms2cYxLeFjxP/I5Gjl1M68g6/xMCK6/HY8WxBwg=                                           0.0   \n",
       "++ezxSWRgPo7VimLbuChif2kuAZI5G6bmKuDdautYtw=                                           0.0   \n",
       "++k2aqGPJ7/9yGGPnlhalRdVulwbgHrLHNt1OD3rr9w=                                           0.0   \n",
       "++zVwIlQiLwQOLumYfwBvz0z8XQ+/Gu7Wkry54DDrxk=                                           0.0   \n",
       "+/6cHy+URZb0OhcMuP3r/KsmsSsiHKKTL0NA+K8IFtQ=                                           0.0   \n",
       "+/PIoXfl6Liwl3TJlq9NLhm40xAkW6wvKonjFijYh38=                                           0.0   \n",
       "+/ccRa2fetuCKRbkfxtpensnKBnig/6o5HpNHJHpHds=                                           0.0   \n",
       "+/eQ+RnO+weCVRUqD4FemhiSzByya7OwKwq1mCrn5OM=                                           0.0   \n",
       "+/h007EQIhRD6SmFiCIDQe4iVkwZ962aYCKPEod4P1k=                                           0.0   \n",
       "+00skobQwnJk5A7n7k3JYO7Qcs+wiYDGvbHZ33K8dHk=                                           0.0   \n",
       "+0BxvX5gzcaHvn25x3BBVZWp3+A3TGPTnPXEdumTsKg=                                           0.0   \n",
       "+0dgMEGn6S+g5/Jy+CnYukqlUY08Q+NN0/frwJq4rAQ=                                           0.0   \n",
       "+0mTGQqRUruyn6ovws2qJ/PCpz+WlQ6QB8tc9psDuK4=                                           0.0   \n",
       "+1+wPQaxvBIJDnbhaxkqWdN9s7iHtiY5aC452GfKGrU=                                           0.0   \n",
       "+11cGGhMIN0QqBhZoO3ijrUr/pMXwM1zEQzYWWE00OA=                                           0.0   \n",
       "+13MfPvGv321Qw5smYDQ4UTxu1OTjQMRiLcbJAtdECo=                                           0.0   \n",
       "\n",
       "msno                                          +2XBp2p9atTpyVPWac3SEEW41i8Xrnl7Utl/h8T4iOo=  \\\n",
       "song_id                                                                                      \n",
       "++7GdTgp8zbQLYOki7hVPEOHpu+KLZClsGrGiEuL2uI=                                           0.0   \n",
       "++NP2gO99EW6w6sm4E1XP20nx8FhbBxsK9fOvbPHwd0=                                           0.0   \n",
       "++QfzyM/LiFaCuvkDFK/wJe13ZEMgTgAaVCcolo7nnY=                                           0.0   \n",
       "++chbCzz+7BYhLH5svRrj4AM37B1bTcC5O77wxODrVo=                                           0.0   \n",
       "++e0ms2cYxLeFjxP/I5Gjl1M68g6/xMCK6/HY8WxBwg=                                           0.0   \n",
       "++ezxSWRgPo7VimLbuChif2kuAZI5G6bmKuDdautYtw=                                           0.0   \n",
       "++k2aqGPJ7/9yGGPnlhalRdVulwbgHrLHNt1OD3rr9w=                                           0.0   \n",
       "++zVwIlQiLwQOLumYfwBvz0z8XQ+/Gu7Wkry54DDrxk=                                           0.0   \n",
       "+/6cHy+URZb0OhcMuP3r/KsmsSsiHKKTL0NA+K8IFtQ=                                           0.0   \n",
       "+/PIoXfl6Liwl3TJlq9NLhm40xAkW6wvKonjFijYh38=                                           0.0   \n",
       "+/ccRa2fetuCKRbkfxtpensnKBnig/6o5HpNHJHpHds=                                           0.0   \n",
       "+/eQ+RnO+weCVRUqD4FemhiSzByya7OwKwq1mCrn5OM=                                           0.0   \n",
       "+/h007EQIhRD6SmFiCIDQe4iVkwZ962aYCKPEod4P1k=                                           0.0   \n",
       "+00skobQwnJk5A7n7k3JYO7Qcs+wiYDGvbHZ33K8dHk=                                           0.0   \n",
       "+0BxvX5gzcaHvn25x3BBVZWp3+A3TGPTnPXEdumTsKg=                                           0.0   \n",
       "+0dgMEGn6S+g5/Jy+CnYukqlUY08Q+NN0/frwJq4rAQ=                                           0.0   \n",
       "+0mTGQqRUruyn6ovws2qJ/PCpz+WlQ6QB8tc9psDuK4=                                           0.0   \n",
       "+1+wPQaxvBIJDnbhaxkqWdN9s7iHtiY5aC452GfKGrU=                                           0.0   \n",
       "+11cGGhMIN0QqBhZoO3ijrUr/pMXwM1zEQzYWWE00OA=                                           0.0   \n",
       "+13MfPvGv321Qw5smYDQ4UTxu1OTjQMRiLcbJAtdECo=                                           0.0   \n",
       "\n",
       "msno                                          +47I9cb7nrGOTd//sIc9prH7SEXA3ujNaL+1R5e1Hyo=  \\\n",
       "song_id                                                                                      \n",
       "++7GdTgp8zbQLYOki7hVPEOHpu+KLZClsGrGiEuL2uI=                                           0.0   \n",
       "++NP2gO99EW6w6sm4E1XP20nx8FhbBxsK9fOvbPHwd0=                                           0.0   \n",
       "++QfzyM/LiFaCuvkDFK/wJe13ZEMgTgAaVCcolo7nnY=                                           0.0   \n",
       "++chbCzz+7BYhLH5svRrj4AM37B1bTcC5O77wxODrVo=                                           0.0   \n",
       "++e0ms2cYxLeFjxP/I5Gjl1M68g6/xMCK6/HY8WxBwg=                                           0.0   \n",
       "++ezxSWRgPo7VimLbuChif2kuAZI5G6bmKuDdautYtw=                                           0.0   \n",
       "++k2aqGPJ7/9yGGPnlhalRdVulwbgHrLHNt1OD3rr9w=                                           0.0   \n",
       "++zVwIlQiLwQOLumYfwBvz0z8XQ+/Gu7Wkry54DDrxk=                                           0.0   \n",
       "+/6cHy+URZb0OhcMuP3r/KsmsSsiHKKTL0NA+K8IFtQ=                                           0.0   \n",
       "+/PIoXfl6Liwl3TJlq9NLhm40xAkW6wvKonjFijYh38=                                           0.0   \n",
       "+/ccRa2fetuCKRbkfxtpensnKBnig/6o5HpNHJHpHds=                                           0.0   \n",
       "+/eQ+RnO+weCVRUqD4FemhiSzByya7OwKwq1mCrn5OM=                                           0.0   \n",
       "+/h007EQIhRD6SmFiCIDQe4iVkwZ962aYCKPEod4P1k=                                           0.0   \n",
       "+00skobQwnJk5A7n7k3JYO7Qcs+wiYDGvbHZ33K8dHk=                                           0.0   \n",
       "+0BxvX5gzcaHvn25x3BBVZWp3+A3TGPTnPXEdumTsKg=                                           0.0   \n",
       "+0dgMEGn6S+g5/Jy+CnYukqlUY08Q+NN0/frwJq4rAQ=                                           0.0   \n",
       "+0mTGQqRUruyn6ovws2qJ/PCpz+WlQ6QB8tc9psDuK4=                                           0.0   \n",
       "+1+wPQaxvBIJDnbhaxkqWdN9s7iHtiY5aC452GfKGrU=                                           0.0   \n",
       "+11cGGhMIN0QqBhZoO3ijrUr/pMXwM1zEQzYWWE00OA=                                           0.0   \n",
       "+13MfPvGv321Qw5smYDQ4UTxu1OTjQMRiLcbJAtdECo=                                           0.0   \n",
       "\n",
       "msno                                          +7y3Yut0jtR9XNHSXNOgNy64F9bBF8pzBhN1fGIw23M=  \\\n",
       "song_id                                                                                      \n",
       "++7GdTgp8zbQLYOki7hVPEOHpu+KLZClsGrGiEuL2uI=                                           0.0   \n",
       "++NP2gO99EW6w6sm4E1XP20nx8FhbBxsK9fOvbPHwd0=                                           0.0   \n",
       "++QfzyM/LiFaCuvkDFK/wJe13ZEMgTgAaVCcolo7nnY=                                           0.0   \n",
       "++chbCzz+7BYhLH5svRrj4AM37B1bTcC5O77wxODrVo=                                           0.0   \n",
       "++e0ms2cYxLeFjxP/I5Gjl1M68g6/xMCK6/HY8WxBwg=                                           0.0   \n",
       "++ezxSWRgPo7VimLbuChif2kuAZI5G6bmKuDdautYtw=                                           0.0   \n",
       "++k2aqGPJ7/9yGGPnlhalRdVulwbgHrLHNt1OD3rr9w=                                           0.0   \n",
       "++zVwIlQiLwQOLumYfwBvz0z8XQ+/Gu7Wkry54DDrxk=                                           0.0   \n",
       "+/6cHy+URZb0OhcMuP3r/KsmsSsiHKKTL0NA+K8IFtQ=                                           0.0   \n",
       "+/PIoXfl6Liwl3TJlq9NLhm40xAkW6wvKonjFijYh38=                                           0.0   \n",
       "+/ccRa2fetuCKRbkfxtpensnKBnig/6o5HpNHJHpHds=                                           0.0   \n",
       "+/eQ+RnO+weCVRUqD4FemhiSzByya7OwKwq1mCrn5OM=                                           0.0   \n",
       "+/h007EQIhRD6SmFiCIDQe4iVkwZ962aYCKPEod4P1k=                                           0.0   \n",
       "+00skobQwnJk5A7n7k3JYO7Qcs+wiYDGvbHZ33K8dHk=                                           0.0   \n",
       "+0BxvX5gzcaHvn25x3BBVZWp3+A3TGPTnPXEdumTsKg=                                           0.0   \n",
       "+0dgMEGn6S+g5/Jy+CnYukqlUY08Q+NN0/frwJq4rAQ=                                           0.0   \n",
       "+0mTGQqRUruyn6ovws2qJ/PCpz+WlQ6QB8tc9psDuK4=                                           0.0   \n",
       "+1+wPQaxvBIJDnbhaxkqWdN9s7iHtiY5aC452GfKGrU=                                           0.0   \n",
       "+11cGGhMIN0QqBhZoO3ijrUr/pMXwM1zEQzYWWE00OA=                                           0.0   \n",
       "+13MfPvGv321Qw5smYDQ4UTxu1OTjQMRiLcbJAtdECo=                                           0.0   \n",
       "\n",
       "msno                                          +B+oiYLl5kv1IDNQv6PBkoh/Ar60ZjRfXQmUK7zvJO4=  \\\n",
       "song_id                                                                                      \n",
       "++7GdTgp8zbQLYOki7hVPEOHpu+KLZClsGrGiEuL2uI=                                           0.0   \n",
       "++NP2gO99EW6w6sm4E1XP20nx8FhbBxsK9fOvbPHwd0=                                           0.0   \n",
       "++QfzyM/LiFaCuvkDFK/wJe13ZEMgTgAaVCcolo7nnY=                                           0.0   \n",
       "++chbCzz+7BYhLH5svRrj4AM37B1bTcC5O77wxODrVo=                                           0.0   \n",
       "++e0ms2cYxLeFjxP/I5Gjl1M68g6/xMCK6/HY8WxBwg=                                           0.0   \n",
       "++ezxSWRgPo7VimLbuChif2kuAZI5G6bmKuDdautYtw=                                           0.0   \n",
       "++k2aqGPJ7/9yGGPnlhalRdVulwbgHrLHNt1OD3rr9w=                                           0.0   \n",
       "++zVwIlQiLwQOLumYfwBvz0z8XQ+/Gu7Wkry54DDrxk=                                           0.0   \n",
       "+/6cHy+URZb0OhcMuP3r/KsmsSsiHKKTL0NA+K8IFtQ=                                           0.0   \n",
       "+/PIoXfl6Liwl3TJlq9NLhm40xAkW6wvKonjFijYh38=                                           0.0   \n",
       "+/ccRa2fetuCKRbkfxtpensnKBnig/6o5HpNHJHpHds=                                           0.0   \n",
       "+/eQ+RnO+weCVRUqD4FemhiSzByya7OwKwq1mCrn5OM=                                           0.0   \n",
       "+/h007EQIhRD6SmFiCIDQe4iVkwZ962aYCKPEod4P1k=                                           0.0   \n",
       "+00skobQwnJk5A7n7k3JYO7Qcs+wiYDGvbHZ33K8dHk=                                           0.0   \n",
       "+0BxvX5gzcaHvn25x3BBVZWp3+A3TGPTnPXEdumTsKg=                                           0.0   \n",
       "+0dgMEGn6S+g5/Jy+CnYukqlUY08Q+NN0/frwJq4rAQ=                                           0.0   \n",
       "+0mTGQqRUruyn6ovws2qJ/PCpz+WlQ6QB8tc9psDuK4=                                           0.0   \n",
       "+1+wPQaxvBIJDnbhaxkqWdN9s7iHtiY5aC452GfKGrU=                                           0.0   \n",
       "+11cGGhMIN0QqBhZoO3ijrUr/pMXwM1zEQzYWWE00OA=                                           0.0   \n",
       "+13MfPvGv321Qw5smYDQ4UTxu1OTjQMRiLcbJAtdECo=                                           0.0   \n",
       "\n",
       "msno                                          +Ez0nI/qWfSARukmK2mqdW6rffcVoJf5y74BEo+7NQ0=  \\\n",
       "song_id                                                                                      \n",
       "++7GdTgp8zbQLYOki7hVPEOHpu+KLZClsGrGiEuL2uI=                                           0.0   \n",
       "++NP2gO99EW6w6sm4E1XP20nx8FhbBxsK9fOvbPHwd0=                                           0.0   \n",
       "++QfzyM/LiFaCuvkDFK/wJe13ZEMgTgAaVCcolo7nnY=                                           0.0   \n",
       "++chbCzz+7BYhLH5svRrj4AM37B1bTcC5O77wxODrVo=                                           0.0   \n",
       "++e0ms2cYxLeFjxP/I5Gjl1M68g6/xMCK6/HY8WxBwg=                                           0.0   \n",
       "++ezxSWRgPo7VimLbuChif2kuAZI5G6bmKuDdautYtw=                                           0.0   \n",
       "++k2aqGPJ7/9yGGPnlhalRdVulwbgHrLHNt1OD3rr9w=                                           0.0   \n",
       "++zVwIlQiLwQOLumYfwBvz0z8XQ+/Gu7Wkry54DDrxk=                                           0.0   \n",
       "+/6cHy+URZb0OhcMuP3r/KsmsSsiHKKTL0NA+K8IFtQ=                                           0.0   \n",
       "+/PIoXfl6Liwl3TJlq9NLhm40xAkW6wvKonjFijYh38=                                           0.0   \n",
       "+/ccRa2fetuCKRbkfxtpensnKBnig/6o5HpNHJHpHds=                                           0.0   \n",
       "+/eQ+RnO+weCVRUqD4FemhiSzByya7OwKwq1mCrn5OM=                                           0.0   \n",
       "+/h007EQIhRD6SmFiCIDQe4iVkwZ962aYCKPEod4P1k=                                           0.0   \n",
       "+00skobQwnJk5A7n7k3JYO7Qcs+wiYDGvbHZ33K8dHk=                                           0.0   \n",
       "+0BxvX5gzcaHvn25x3BBVZWp3+A3TGPTnPXEdumTsKg=                                           0.0   \n",
       "+0dgMEGn6S+g5/Jy+CnYukqlUY08Q+NN0/frwJq4rAQ=                                           0.0   \n",
       "+0mTGQqRUruyn6ovws2qJ/PCpz+WlQ6QB8tc9psDuK4=                                           0.0   \n",
       "+1+wPQaxvBIJDnbhaxkqWdN9s7iHtiY5aC452GfKGrU=                                           0.0   \n",
       "+11cGGhMIN0QqBhZoO3ijrUr/pMXwM1zEQzYWWE00OA=                                           0.0   \n",
       "+13MfPvGv321Qw5smYDQ4UTxu1OTjQMRiLcbJAtdECo=                                           0.0   \n",
       "\n",
       "msno                                          +LA1Ana39J4LFb+bRQJrdYsbTaeNGgFccPq0NsgTmhU=  \\\n",
       "song_id                                                                                      \n",
       "++7GdTgp8zbQLYOki7hVPEOHpu+KLZClsGrGiEuL2uI=                                           0.0   \n",
       "++NP2gO99EW6w6sm4E1XP20nx8FhbBxsK9fOvbPHwd0=                                           0.0   \n",
       "++QfzyM/LiFaCuvkDFK/wJe13ZEMgTgAaVCcolo7nnY=                                           0.0   \n",
       "++chbCzz+7BYhLH5svRrj4AM37B1bTcC5O77wxODrVo=                                           0.0   \n",
       "++e0ms2cYxLeFjxP/I5Gjl1M68g6/xMCK6/HY8WxBwg=                                           0.0   \n",
       "++ezxSWRgPo7VimLbuChif2kuAZI5G6bmKuDdautYtw=                                           0.0   \n",
       "++k2aqGPJ7/9yGGPnlhalRdVulwbgHrLHNt1OD3rr9w=                                           0.0   \n",
       "++zVwIlQiLwQOLumYfwBvz0z8XQ+/Gu7Wkry54DDrxk=                                           0.0   \n",
       "+/6cHy+URZb0OhcMuP3r/KsmsSsiHKKTL0NA+K8IFtQ=                                           0.0   \n",
       "+/PIoXfl6Liwl3TJlq9NLhm40xAkW6wvKonjFijYh38=                                           0.0   \n",
       "+/ccRa2fetuCKRbkfxtpensnKBnig/6o5HpNHJHpHds=                                           0.0   \n",
       "+/eQ+RnO+weCVRUqD4FemhiSzByya7OwKwq1mCrn5OM=                                           0.0   \n",
       "+/h007EQIhRD6SmFiCIDQe4iVkwZ962aYCKPEod4P1k=                                           0.0   \n",
       "+00skobQwnJk5A7n7k3JYO7Qcs+wiYDGvbHZ33K8dHk=                                           0.0   \n",
       "+0BxvX5gzcaHvn25x3BBVZWp3+A3TGPTnPXEdumTsKg=                                           0.0   \n",
       "+0dgMEGn6S+g5/Jy+CnYukqlUY08Q+NN0/frwJq4rAQ=                                           0.0   \n",
       "+0mTGQqRUruyn6ovws2qJ/PCpz+WlQ6QB8tc9psDuK4=                                           0.0   \n",
       "+1+wPQaxvBIJDnbhaxkqWdN9s7iHtiY5aC452GfKGrU=                                           0.0   \n",
       "+11cGGhMIN0QqBhZoO3ijrUr/pMXwM1zEQzYWWE00OA=                                           0.0   \n",
       "+13MfPvGv321Qw5smYDQ4UTxu1OTjQMRiLcbJAtdECo=                                           0.0   \n",
       "\n",
       "msno                                          +Op7cb8kCgBF5fMnisaSAIV71KhjMaFlwdQd0BM4OkY=  \\\n",
       "song_id                                                                                      \n",
       "++7GdTgp8zbQLYOki7hVPEOHpu+KLZClsGrGiEuL2uI=                                           0.0   \n",
       "++NP2gO99EW6w6sm4E1XP20nx8FhbBxsK9fOvbPHwd0=                                           0.0   \n",
       "++QfzyM/LiFaCuvkDFK/wJe13ZEMgTgAaVCcolo7nnY=                                           0.0   \n",
       "++chbCzz+7BYhLH5svRrj4AM37B1bTcC5O77wxODrVo=                                           0.0   \n",
       "++e0ms2cYxLeFjxP/I5Gjl1M68g6/xMCK6/HY8WxBwg=                                           0.0   \n",
       "++ezxSWRgPo7VimLbuChif2kuAZI5G6bmKuDdautYtw=                                           0.0   \n",
       "++k2aqGPJ7/9yGGPnlhalRdVulwbgHrLHNt1OD3rr9w=                                           0.0   \n",
       "++zVwIlQiLwQOLumYfwBvz0z8XQ+/Gu7Wkry54DDrxk=                                           0.0   \n",
       "+/6cHy+URZb0OhcMuP3r/KsmsSsiHKKTL0NA+K8IFtQ=                                           0.0   \n",
       "+/PIoXfl6Liwl3TJlq9NLhm40xAkW6wvKonjFijYh38=                                           0.0   \n",
       "+/ccRa2fetuCKRbkfxtpensnKBnig/6o5HpNHJHpHds=                                           0.0   \n",
       "+/eQ+RnO+weCVRUqD4FemhiSzByya7OwKwq1mCrn5OM=                                           0.0   \n",
       "+/h007EQIhRD6SmFiCIDQe4iVkwZ962aYCKPEod4P1k=                                           0.0   \n",
       "+00skobQwnJk5A7n7k3JYO7Qcs+wiYDGvbHZ33K8dHk=                                           0.0   \n",
       "+0BxvX5gzcaHvn25x3BBVZWp3+A3TGPTnPXEdumTsKg=                                           0.0   \n",
       "+0dgMEGn6S+g5/Jy+CnYukqlUY08Q+NN0/frwJq4rAQ=                                           0.0   \n",
       "+0mTGQqRUruyn6ovws2qJ/PCpz+WlQ6QB8tc9psDuK4=                                           0.0   \n",
       "+1+wPQaxvBIJDnbhaxkqWdN9s7iHtiY5aC452GfKGrU=                                           0.0   \n",
       "+11cGGhMIN0QqBhZoO3ijrUr/pMXwM1zEQzYWWE00OA=                                           0.0   \n",
       "+13MfPvGv321Qw5smYDQ4UTxu1OTjQMRiLcbJAtdECo=                                           0.0   \n",
       "\n",
       "msno                                          +R2/oqXFpOJfagOJDuDPjcdRy1VyDXVj88zUhhvONYQ=  \\\n",
       "song_id                                                                                      \n",
       "++7GdTgp8zbQLYOki7hVPEOHpu+KLZClsGrGiEuL2uI=                                           0.0   \n",
       "++NP2gO99EW6w6sm4E1XP20nx8FhbBxsK9fOvbPHwd0=                                           0.0   \n",
       "++QfzyM/LiFaCuvkDFK/wJe13ZEMgTgAaVCcolo7nnY=                                           0.0   \n",
       "++chbCzz+7BYhLH5svRrj4AM37B1bTcC5O77wxODrVo=                                           0.0   \n",
       "++e0ms2cYxLeFjxP/I5Gjl1M68g6/xMCK6/HY8WxBwg=                                           0.0   \n",
       "++ezxSWRgPo7VimLbuChif2kuAZI5G6bmKuDdautYtw=                                           0.0   \n",
       "++k2aqGPJ7/9yGGPnlhalRdVulwbgHrLHNt1OD3rr9w=                                           0.0   \n",
       "++zVwIlQiLwQOLumYfwBvz0z8XQ+/Gu7Wkry54DDrxk=                                           0.0   \n",
       "+/6cHy+URZb0OhcMuP3r/KsmsSsiHKKTL0NA+K8IFtQ=                                           0.0   \n",
       "+/PIoXfl6Liwl3TJlq9NLhm40xAkW6wvKonjFijYh38=                                           0.0   \n",
       "+/ccRa2fetuCKRbkfxtpensnKBnig/6o5HpNHJHpHds=                                           0.0   \n",
       "+/eQ+RnO+weCVRUqD4FemhiSzByya7OwKwq1mCrn5OM=                                           0.0   \n",
       "+/h007EQIhRD6SmFiCIDQe4iVkwZ962aYCKPEod4P1k=                                           0.0   \n",
       "+00skobQwnJk5A7n7k3JYO7Qcs+wiYDGvbHZ33K8dHk=                                           0.0   \n",
       "+0BxvX5gzcaHvn25x3BBVZWp3+A3TGPTnPXEdumTsKg=                                           0.0   \n",
       "+0dgMEGn6S+g5/Jy+CnYukqlUY08Q+NN0/frwJq4rAQ=                                           0.0   \n",
       "+0mTGQqRUruyn6ovws2qJ/PCpz+WlQ6QB8tc9psDuK4=                                           0.0   \n",
       "+1+wPQaxvBIJDnbhaxkqWdN9s7iHtiY5aC452GfKGrU=                                           0.0   \n",
       "+11cGGhMIN0QqBhZoO3ijrUr/pMXwM1zEQzYWWE00OA=                                           0.0   \n",
       "+13MfPvGv321Qw5smYDQ4UTxu1OTjQMRiLcbJAtdECo=                                           0.0   \n",
       "\n",
       "msno                                          ...  \\\n",
       "song_id                                       ...   \n",
       "++7GdTgp8zbQLYOki7hVPEOHpu+KLZClsGrGiEuL2uI=  ...   \n",
       "++NP2gO99EW6w6sm4E1XP20nx8FhbBxsK9fOvbPHwd0=  ...   \n",
       "++QfzyM/LiFaCuvkDFK/wJe13ZEMgTgAaVCcolo7nnY=  ...   \n",
       "++chbCzz+7BYhLH5svRrj4AM37B1bTcC5O77wxODrVo=  ...   \n",
       "++e0ms2cYxLeFjxP/I5Gjl1M68g6/xMCK6/HY8WxBwg=  ...   \n",
       "++ezxSWRgPo7VimLbuChif2kuAZI5G6bmKuDdautYtw=  ...   \n",
       "++k2aqGPJ7/9yGGPnlhalRdVulwbgHrLHNt1OD3rr9w=  ...   \n",
       "++zVwIlQiLwQOLumYfwBvz0z8XQ+/Gu7Wkry54DDrxk=  ...   \n",
       "+/6cHy+URZb0OhcMuP3r/KsmsSsiHKKTL0NA+K8IFtQ=  ...   \n",
       "+/PIoXfl6Liwl3TJlq9NLhm40xAkW6wvKonjFijYh38=  ...   \n",
       "+/ccRa2fetuCKRbkfxtpensnKBnig/6o5HpNHJHpHds=  ...   \n",
       "+/eQ+RnO+weCVRUqD4FemhiSzByya7OwKwq1mCrn5OM=  ...   \n",
       "+/h007EQIhRD6SmFiCIDQe4iVkwZ962aYCKPEod4P1k=  ...   \n",
       "+00skobQwnJk5A7n7k3JYO7Qcs+wiYDGvbHZ33K8dHk=  ...   \n",
       "+0BxvX5gzcaHvn25x3BBVZWp3+A3TGPTnPXEdumTsKg=  ...   \n",
       "+0dgMEGn6S+g5/Jy+CnYukqlUY08Q+NN0/frwJq4rAQ=  ...   \n",
       "+0mTGQqRUruyn6ovws2qJ/PCpz+WlQ6QB8tc9psDuK4=  ...   \n",
       "+1+wPQaxvBIJDnbhaxkqWdN9s7iHtiY5aC452GfKGrU=  ...   \n",
       "+11cGGhMIN0QqBhZoO3ijrUr/pMXwM1zEQzYWWE00OA=  ...   \n",
       "+13MfPvGv321Qw5smYDQ4UTxu1OTjQMRiLcbJAtdECo=  ...   \n",
       "\n",
       "msno                                          zkx4wHRFZjeFuTgkglS1hSx8O6gPCwaoWppiimL2dHQ=  \\\n",
       "song_id                                                                                      \n",
       "++7GdTgp8zbQLYOki7hVPEOHpu+KLZClsGrGiEuL2uI=                                           0.0   \n",
       "++NP2gO99EW6w6sm4E1XP20nx8FhbBxsK9fOvbPHwd0=                                           0.0   \n",
       "++QfzyM/LiFaCuvkDFK/wJe13ZEMgTgAaVCcolo7nnY=                                           0.0   \n",
       "++chbCzz+7BYhLH5svRrj4AM37B1bTcC5O77wxODrVo=                                           0.0   \n",
       "++e0ms2cYxLeFjxP/I5Gjl1M68g6/xMCK6/HY8WxBwg=                                           0.0   \n",
       "++ezxSWRgPo7VimLbuChif2kuAZI5G6bmKuDdautYtw=                                           0.0   \n",
       "++k2aqGPJ7/9yGGPnlhalRdVulwbgHrLHNt1OD3rr9w=                                           0.0   \n",
       "++zVwIlQiLwQOLumYfwBvz0z8XQ+/Gu7Wkry54DDrxk=                                           0.0   \n",
       "+/6cHy+URZb0OhcMuP3r/KsmsSsiHKKTL0NA+K8IFtQ=                                           0.0   \n",
       "+/PIoXfl6Liwl3TJlq9NLhm40xAkW6wvKonjFijYh38=                                           0.0   \n",
       "+/ccRa2fetuCKRbkfxtpensnKBnig/6o5HpNHJHpHds=                                           0.0   \n",
       "+/eQ+RnO+weCVRUqD4FemhiSzByya7OwKwq1mCrn5OM=                                           0.0   \n",
       "+/h007EQIhRD6SmFiCIDQe4iVkwZ962aYCKPEod4P1k=                                           0.0   \n",
       "+00skobQwnJk5A7n7k3JYO7Qcs+wiYDGvbHZ33K8dHk=                                           0.0   \n",
       "+0BxvX5gzcaHvn25x3BBVZWp3+A3TGPTnPXEdumTsKg=                                           0.0   \n",
       "+0dgMEGn6S+g5/Jy+CnYukqlUY08Q+NN0/frwJq4rAQ=                                           0.0   \n",
       "+0mTGQqRUruyn6ovws2qJ/PCpz+WlQ6QB8tc9psDuK4=                                           0.0   \n",
       "+1+wPQaxvBIJDnbhaxkqWdN9s7iHtiY5aC452GfKGrU=                                           0.0   \n",
       "+11cGGhMIN0QqBhZoO3ijrUr/pMXwM1zEQzYWWE00OA=                                           0.0   \n",
       "+13MfPvGv321Qw5smYDQ4UTxu1OTjQMRiLcbJAtdECo=                                           0.0   \n",
       "\n",
       "msno                                          zlHBUBsWDaokMojjGy6ePkhan130FyKnXNIbuqriyFo=  \\\n",
       "song_id                                                                                      \n",
       "++7GdTgp8zbQLYOki7hVPEOHpu+KLZClsGrGiEuL2uI=                                           0.0   \n",
       "++NP2gO99EW6w6sm4E1XP20nx8FhbBxsK9fOvbPHwd0=                                           0.0   \n",
       "++QfzyM/LiFaCuvkDFK/wJe13ZEMgTgAaVCcolo7nnY=                                           0.0   \n",
       "++chbCzz+7BYhLH5svRrj4AM37B1bTcC5O77wxODrVo=                                           0.0   \n",
       "++e0ms2cYxLeFjxP/I5Gjl1M68g6/xMCK6/HY8WxBwg=                                           0.0   \n",
       "++ezxSWRgPo7VimLbuChif2kuAZI5G6bmKuDdautYtw=                                           0.0   \n",
       "++k2aqGPJ7/9yGGPnlhalRdVulwbgHrLHNt1OD3rr9w=                                           0.0   \n",
       "++zVwIlQiLwQOLumYfwBvz0z8XQ+/Gu7Wkry54DDrxk=                                           0.0   \n",
       "+/6cHy+URZb0OhcMuP3r/KsmsSsiHKKTL0NA+K8IFtQ=                                           0.0   \n",
       "+/PIoXfl6Liwl3TJlq9NLhm40xAkW6wvKonjFijYh38=                                           0.0   \n",
       "+/ccRa2fetuCKRbkfxtpensnKBnig/6o5HpNHJHpHds=                                           0.0   \n",
       "+/eQ+RnO+weCVRUqD4FemhiSzByya7OwKwq1mCrn5OM=                                           0.0   \n",
       "+/h007EQIhRD6SmFiCIDQe4iVkwZ962aYCKPEod4P1k=                                           0.0   \n",
       "+00skobQwnJk5A7n7k3JYO7Qcs+wiYDGvbHZ33K8dHk=                                           0.0   \n",
       "+0BxvX5gzcaHvn25x3BBVZWp3+A3TGPTnPXEdumTsKg=                                           0.0   \n",
       "+0dgMEGn6S+g5/Jy+CnYukqlUY08Q+NN0/frwJq4rAQ=                                           0.0   \n",
       "+0mTGQqRUruyn6ovws2qJ/PCpz+WlQ6QB8tc9psDuK4=                                           0.0   \n",
       "+1+wPQaxvBIJDnbhaxkqWdN9s7iHtiY5aC452GfKGrU=                                           0.0   \n",
       "+11cGGhMIN0QqBhZoO3ijrUr/pMXwM1zEQzYWWE00OA=                                           0.0   \n",
       "+13MfPvGv321Qw5smYDQ4UTxu1OTjQMRiLcbJAtdECo=                                           0.0   \n",
       "\n",
       "msno                                          zmyXj2YOKWLAeBxZApPKKGhVbvlTC5iNw0NuOftM2AY=  \\\n",
       "song_id                                                                                      \n",
       "++7GdTgp8zbQLYOki7hVPEOHpu+KLZClsGrGiEuL2uI=                                           0.0   \n",
       "++NP2gO99EW6w6sm4E1XP20nx8FhbBxsK9fOvbPHwd0=                                           0.0   \n",
       "++QfzyM/LiFaCuvkDFK/wJe13ZEMgTgAaVCcolo7nnY=                                           0.0   \n",
       "++chbCzz+7BYhLH5svRrj4AM37B1bTcC5O77wxODrVo=                                           0.0   \n",
       "++e0ms2cYxLeFjxP/I5Gjl1M68g6/xMCK6/HY8WxBwg=                                           0.0   \n",
       "++ezxSWRgPo7VimLbuChif2kuAZI5G6bmKuDdautYtw=                                           0.0   \n",
       "++k2aqGPJ7/9yGGPnlhalRdVulwbgHrLHNt1OD3rr9w=                                           0.0   \n",
       "++zVwIlQiLwQOLumYfwBvz0z8XQ+/Gu7Wkry54DDrxk=                                           0.0   \n",
       "+/6cHy+URZb0OhcMuP3r/KsmsSsiHKKTL0NA+K8IFtQ=                                           0.0   \n",
       "+/PIoXfl6Liwl3TJlq9NLhm40xAkW6wvKonjFijYh38=                                           0.0   \n",
       "+/ccRa2fetuCKRbkfxtpensnKBnig/6o5HpNHJHpHds=                                           0.0   \n",
       "+/eQ+RnO+weCVRUqD4FemhiSzByya7OwKwq1mCrn5OM=                                           0.0   \n",
       "+/h007EQIhRD6SmFiCIDQe4iVkwZ962aYCKPEod4P1k=                                           0.0   \n",
       "+00skobQwnJk5A7n7k3JYO7Qcs+wiYDGvbHZ33K8dHk=                                           0.0   \n",
       "+0BxvX5gzcaHvn25x3BBVZWp3+A3TGPTnPXEdumTsKg=                                           0.0   \n",
       "+0dgMEGn6S+g5/Jy+CnYukqlUY08Q+NN0/frwJq4rAQ=                                           0.0   \n",
       "+0mTGQqRUruyn6ovws2qJ/PCpz+WlQ6QB8tc9psDuK4=                                           0.0   \n",
       "+1+wPQaxvBIJDnbhaxkqWdN9s7iHtiY5aC452GfKGrU=                                           0.0   \n",
       "+11cGGhMIN0QqBhZoO3ijrUr/pMXwM1zEQzYWWE00OA=                                           0.0   \n",
       "+13MfPvGv321Qw5smYDQ4UTxu1OTjQMRiLcbJAtdECo=                                           0.0   \n",
       "\n",
       "msno                                          zn03Mbi/8Y7w6/gsnrUaym6NIMduThwnumGZ7Wl/uT4=  \\\n",
       "song_id                                                                                      \n",
       "++7GdTgp8zbQLYOki7hVPEOHpu+KLZClsGrGiEuL2uI=                                           0.0   \n",
       "++NP2gO99EW6w6sm4E1XP20nx8FhbBxsK9fOvbPHwd0=                                           0.0   \n",
       "++QfzyM/LiFaCuvkDFK/wJe13ZEMgTgAaVCcolo7nnY=                                           0.0   \n",
       "++chbCzz+7BYhLH5svRrj4AM37B1bTcC5O77wxODrVo=                                           0.0   \n",
       "++e0ms2cYxLeFjxP/I5Gjl1M68g6/xMCK6/HY8WxBwg=                                           0.0   \n",
       "++ezxSWRgPo7VimLbuChif2kuAZI5G6bmKuDdautYtw=                                           0.0   \n",
       "++k2aqGPJ7/9yGGPnlhalRdVulwbgHrLHNt1OD3rr9w=                                           0.0   \n",
       "++zVwIlQiLwQOLumYfwBvz0z8XQ+/Gu7Wkry54DDrxk=                                           0.0   \n",
       "+/6cHy+URZb0OhcMuP3r/KsmsSsiHKKTL0NA+K8IFtQ=                                           0.0   \n",
       "+/PIoXfl6Liwl3TJlq9NLhm40xAkW6wvKonjFijYh38=                                           0.0   \n",
       "+/ccRa2fetuCKRbkfxtpensnKBnig/6o5HpNHJHpHds=                                           0.0   \n",
       "+/eQ+RnO+weCVRUqD4FemhiSzByya7OwKwq1mCrn5OM=                                           0.0   \n",
       "+/h007EQIhRD6SmFiCIDQe4iVkwZ962aYCKPEod4P1k=                                           0.0   \n",
       "+00skobQwnJk5A7n7k3JYO7Qcs+wiYDGvbHZ33K8dHk=                                           0.0   \n",
       "+0BxvX5gzcaHvn25x3BBVZWp3+A3TGPTnPXEdumTsKg=                                           0.0   \n",
       "+0dgMEGn6S+g5/Jy+CnYukqlUY08Q+NN0/frwJq4rAQ=                                           0.0   \n",
       "+0mTGQqRUruyn6ovws2qJ/PCpz+WlQ6QB8tc9psDuK4=                                           0.0   \n",
       "+1+wPQaxvBIJDnbhaxkqWdN9s7iHtiY5aC452GfKGrU=                                           0.0   \n",
       "+11cGGhMIN0QqBhZoO3ijrUr/pMXwM1zEQzYWWE00OA=                                           0.0   \n",
       "+13MfPvGv321Qw5smYDQ4UTxu1OTjQMRiLcbJAtdECo=                                           0.0   \n",
       "\n",
       "msno                                          zn90b58dMYs6ZYFD81vffgSWFb/BfOY57eGZhjKad6o=  \\\n",
       "song_id                                                                                      \n",
       "++7GdTgp8zbQLYOki7hVPEOHpu+KLZClsGrGiEuL2uI=                                           0.0   \n",
       "++NP2gO99EW6w6sm4E1XP20nx8FhbBxsK9fOvbPHwd0=                                           0.0   \n",
       "++QfzyM/LiFaCuvkDFK/wJe13ZEMgTgAaVCcolo7nnY=                                           0.0   \n",
       "++chbCzz+7BYhLH5svRrj4AM37B1bTcC5O77wxODrVo=                                           0.0   \n",
       "++e0ms2cYxLeFjxP/I5Gjl1M68g6/xMCK6/HY8WxBwg=                                           0.0   \n",
       "++ezxSWRgPo7VimLbuChif2kuAZI5G6bmKuDdautYtw=                                           0.0   \n",
       "++k2aqGPJ7/9yGGPnlhalRdVulwbgHrLHNt1OD3rr9w=                                           0.0   \n",
       "++zVwIlQiLwQOLumYfwBvz0z8XQ+/Gu7Wkry54DDrxk=                                           0.0   \n",
       "+/6cHy+URZb0OhcMuP3r/KsmsSsiHKKTL0NA+K8IFtQ=                                           0.0   \n",
       "+/PIoXfl6Liwl3TJlq9NLhm40xAkW6wvKonjFijYh38=                                           0.0   \n",
       "+/ccRa2fetuCKRbkfxtpensnKBnig/6o5HpNHJHpHds=                                           0.0   \n",
       "+/eQ+RnO+weCVRUqD4FemhiSzByya7OwKwq1mCrn5OM=                                           0.0   \n",
       "+/h007EQIhRD6SmFiCIDQe4iVkwZ962aYCKPEod4P1k=                                           0.0   \n",
       "+00skobQwnJk5A7n7k3JYO7Qcs+wiYDGvbHZ33K8dHk=                                           0.0   \n",
       "+0BxvX5gzcaHvn25x3BBVZWp3+A3TGPTnPXEdumTsKg=                                           0.0   \n",
       "+0dgMEGn6S+g5/Jy+CnYukqlUY08Q+NN0/frwJq4rAQ=                                           0.0   \n",
       "+0mTGQqRUruyn6ovws2qJ/PCpz+WlQ6QB8tc9psDuK4=                                           0.0   \n",
       "+1+wPQaxvBIJDnbhaxkqWdN9s7iHtiY5aC452GfKGrU=                                           0.0   \n",
       "+11cGGhMIN0QqBhZoO3ijrUr/pMXwM1zEQzYWWE00OA=                                           0.0   \n",
       "+13MfPvGv321Qw5smYDQ4UTxu1OTjQMRiLcbJAtdECo=                                           0.0   \n",
       "\n",
       "msno                                          zpmMI7VnBhY9Y7NLV3YuqEzi5hkTGU784A29NOwIwE4=  \\\n",
       "song_id                                                                                      \n",
       "++7GdTgp8zbQLYOki7hVPEOHpu+KLZClsGrGiEuL2uI=                                           0.0   \n",
       "++NP2gO99EW6w6sm4E1XP20nx8FhbBxsK9fOvbPHwd0=                                           0.0   \n",
       "++QfzyM/LiFaCuvkDFK/wJe13ZEMgTgAaVCcolo7nnY=                                           0.0   \n",
       "++chbCzz+7BYhLH5svRrj4AM37B1bTcC5O77wxODrVo=                                           0.0   \n",
       "++e0ms2cYxLeFjxP/I5Gjl1M68g6/xMCK6/HY8WxBwg=                                           0.0   \n",
       "++ezxSWRgPo7VimLbuChif2kuAZI5G6bmKuDdautYtw=                                           0.0   \n",
       "++k2aqGPJ7/9yGGPnlhalRdVulwbgHrLHNt1OD3rr9w=                                           0.0   \n",
       "++zVwIlQiLwQOLumYfwBvz0z8XQ+/Gu7Wkry54DDrxk=                                           0.0   \n",
       "+/6cHy+URZb0OhcMuP3r/KsmsSsiHKKTL0NA+K8IFtQ=                                           0.0   \n",
       "+/PIoXfl6Liwl3TJlq9NLhm40xAkW6wvKonjFijYh38=                                           0.0   \n",
       "+/ccRa2fetuCKRbkfxtpensnKBnig/6o5HpNHJHpHds=                                           0.0   \n",
       "+/eQ+RnO+weCVRUqD4FemhiSzByya7OwKwq1mCrn5OM=                                           0.0   \n",
       "+/h007EQIhRD6SmFiCIDQe4iVkwZ962aYCKPEod4P1k=                                           0.0   \n",
       "+00skobQwnJk5A7n7k3JYO7Qcs+wiYDGvbHZ33K8dHk=                                           0.0   \n",
       "+0BxvX5gzcaHvn25x3BBVZWp3+A3TGPTnPXEdumTsKg=                                           0.0   \n",
       "+0dgMEGn6S+g5/Jy+CnYukqlUY08Q+NN0/frwJq4rAQ=                                           0.0   \n",
       "+0mTGQqRUruyn6ovws2qJ/PCpz+WlQ6QB8tc9psDuK4=                                           0.0   \n",
       "+1+wPQaxvBIJDnbhaxkqWdN9s7iHtiY5aC452GfKGrU=                                           0.0   \n",
       "+11cGGhMIN0QqBhZoO3ijrUr/pMXwM1zEQzYWWE00OA=                                           0.0   \n",
       "+13MfPvGv321Qw5smYDQ4UTxu1OTjQMRiLcbJAtdECo=                                           0.0   \n",
       "\n",
       "msno                                          zswCxzaeUrXgJnI3PqSp3i2u4BFbxevcbPzQPorYEW8=  \\\n",
       "song_id                                                                                      \n",
       "++7GdTgp8zbQLYOki7hVPEOHpu+KLZClsGrGiEuL2uI=                                           0.0   \n",
       "++NP2gO99EW6w6sm4E1XP20nx8FhbBxsK9fOvbPHwd0=                                           0.0   \n",
       "++QfzyM/LiFaCuvkDFK/wJe13ZEMgTgAaVCcolo7nnY=                                           0.0   \n",
       "++chbCzz+7BYhLH5svRrj4AM37B1bTcC5O77wxODrVo=                                           0.0   \n",
       "++e0ms2cYxLeFjxP/I5Gjl1M68g6/xMCK6/HY8WxBwg=                                           0.0   \n",
       "++ezxSWRgPo7VimLbuChif2kuAZI5G6bmKuDdautYtw=                                           0.0   \n",
       "++k2aqGPJ7/9yGGPnlhalRdVulwbgHrLHNt1OD3rr9w=                                           0.0   \n",
       "++zVwIlQiLwQOLumYfwBvz0z8XQ+/Gu7Wkry54DDrxk=                                           0.0   \n",
       "+/6cHy+URZb0OhcMuP3r/KsmsSsiHKKTL0NA+K8IFtQ=                                           0.0   \n",
       "+/PIoXfl6Liwl3TJlq9NLhm40xAkW6wvKonjFijYh38=                                           0.0   \n",
       "+/ccRa2fetuCKRbkfxtpensnKBnig/6o5HpNHJHpHds=                                           0.0   \n",
       "+/eQ+RnO+weCVRUqD4FemhiSzByya7OwKwq1mCrn5OM=                                           0.0   \n",
       "+/h007EQIhRD6SmFiCIDQe4iVkwZ962aYCKPEod4P1k=                                           0.0   \n",
       "+00skobQwnJk5A7n7k3JYO7Qcs+wiYDGvbHZ33K8dHk=                                           0.0   \n",
       "+0BxvX5gzcaHvn25x3BBVZWp3+A3TGPTnPXEdumTsKg=                                           0.0   \n",
       "+0dgMEGn6S+g5/Jy+CnYukqlUY08Q+NN0/frwJq4rAQ=                                           0.0   \n",
       "+0mTGQqRUruyn6ovws2qJ/PCpz+WlQ6QB8tc9psDuK4=                                           0.0   \n",
       "+1+wPQaxvBIJDnbhaxkqWdN9s7iHtiY5aC452GfKGrU=                                           0.0   \n",
       "+11cGGhMIN0QqBhZoO3ijrUr/pMXwM1zEQzYWWE00OA=                                           0.0   \n",
       "+13MfPvGv321Qw5smYDQ4UTxu1OTjQMRiLcbJAtdECo=                                           0.0   \n",
       "\n",
       "msno                                          zvwn/kCosrjvzwm0EjP0fkgeQh+SXLlOqypTUwTlLic=  \\\n",
       "song_id                                                                                      \n",
       "++7GdTgp8zbQLYOki7hVPEOHpu+KLZClsGrGiEuL2uI=                                           0.0   \n",
       "++NP2gO99EW6w6sm4E1XP20nx8FhbBxsK9fOvbPHwd0=                                           0.0   \n",
       "++QfzyM/LiFaCuvkDFK/wJe13ZEMgTgAaVCcolo7nnY=                                           0.0   \n",
       "++chbCzz+7BYhLH5svRrj4AM37B1bTcC5O77wxODrVo=                                           0.0   \n",
       "++e0ms2cYxLeFjxP/I5Gjl1M68g6/xMCK6/HY8WxBwg=                                           0.0   \n",
       "++ezxSWRgPo7VimLbuChif2kuAZI5G6bmKuDdautYtw=                                           0.0   \n",
       "++k2aqGPJ7/9yGGPnlhalRdVulwbgHrLHNt1OD3rr9w=                                           0.0   \n",
       "++zVwIlQiLwQOLumYfwBvz0z8XQ+/Gu7Wkry54DDrxk=                                           0.0   \n",
       "+/6cHy+URZb0OhcMuP3r/KsmsSsiHKKTL0NA+K8IFtQ=                                           0.0   \n",
       "+/PIoXfl6Liwl3TJlq9NLhm40xAkW6wvKonjFijYh38=                                           0.0   \n",
       "+/ccRa2fetuCKRbkfxtpensnKBnig/6o5HpNHJHpHds=                                           0.0   \n",
       "+/eQ+RnO+weCVRUqD4FemhiSzByya7OwKwq1mCrn5OM=                                           0.0   \n",
       "+/h007EQIhRD6SmFiCIDQe4iVkwZ962aYCKPEod4P1k=                                           0.0   \n",
       "+00skobQwnJk5A7n7k3JYO7Qcs+wiYDGvbHZ33K8dHk=                                           0.0   \n",
       "+0BxvX5gzcaHvn25x3BBVZWp3+A3TGPTnPXEdumTsKg=                                           0.0   \n",
       "+0dgMEGn6S+g5/Jy+CnYukqlUY08Q+NN0/frwJq4rAQ=                                           0.0   \n",
       "+0mTGQqRUruyn6ovws2qJ/PCpz+WlQ6QB8tc9psDuK4=                                           0.0   \n",
       "+1+wPQaxvBIJDnbhaxkqWdN9s7iHtiY5aC452GfKGrU=                                           0.0   \n",
       "+11cGGhMIN0QqBhZoO3ijrUr/pMXwM1zEQzYWWE00OA=                                           0.0   \n",
       "+13MfPvGv321Qw5smYDQ4UTxu1OTjQMRiLcbJAtdECo=                                           0.0   \n",
       "\n",
       "msno                                          zx51OvMA6lJ+iNxD6lZnUppO8ZKHhuKBIAgGXAObgqQ=  \\\n",
       "song_id                                                                                      \n",
       "++7GdTgp8zbQLYOki7hVPEOHpu+KLZClsGrGiEuL2uI=                                           0.0   \n",
       "++NP2gO99EW6w6sm4E1XP20nx8FhbBxsK9fOvbPHwd0=                                           0.0   \n",
       "++QfzyM/LiFaCuvkDFK/wJe13ZEMgTgAaVCcolo7nnY=                                           0.0   \n",
       "++chbCzz+7BYhLH5svRrj4AM37B1bTcC5O77wxODrVo=                                           0.0   \n",
       "++e0ms2cYxLeFjxP/I5Gjl1M68g6/xMCK6/HY8WxBwg=                                           0.0   \n",
       "++ezxSWRgPo7VimLbuChif2kuAZI5G6bmKuDdautYtw=                                           0.0   \n",
       "++k2aqGPJ7/9yGGPnlhalRdVulwbgHrLHNt1OD3rr9w=                                           0.0   \n",
       "++zVwIlQiLwQOLumYfwBvz0z8XQ+/Gu7Wkry54DDrxk=                                           0.0   \n",
       "+/6cHy+URZb0OhcMuP3r/KsmsSsiHKKTL0NA+K8IFtQ=                                           0.0   \n",
       "+/PIoXfl6Liwl3TJlq9NLhm40xAkW6wvKonjFijYh38=                                           0.0   \n",
       "+/ccRa2fetuCKRbkfxtpensnKBnig/6o5HpNHJHpHds=                                           0.0   \n",
       "+/eQ+RnO+weCVRUqD4FemhiSzByya7OwKwq1mCrn5OM=                                           0.0   \n",
       "+/h007EQIhRD6SmFiCIDQe4iVkwZ962aYCKPEod4P1k=                                           0.0   \n",
       "+00skobQwnJk5A7n7k3JYO7Qcs+wiYDGvbHZ33K8dHk=                                           0.0   \n",
       "+0BxvX5gzcaHvn25x3BBVZWp3+A3TGPTnPXEdumTsKg=                                           0.0   \n",
       "+0dgMEGn6S+g5/Jy+CnYukqlUY08Q+NN0/frwJq4rAQ=                                           0.0   \n",
       "+0mTGQqRUruyn6ovws2qJ/PCpz+WlQ6QB8tc9psDuK4=                                           0.0   \n",
       "+1+wPQaxvBIJDnbhaxkqWdN9s7iHtiY5aC452GfKGrU=                                           0.0   \n",
       "+11cGGhMIN0QqBhZoO3ijrUr/pMXwM1zEQzYWWE00OA=                                           0.0   \n",
       "+13MfPvGv321Qw5smYDQ4UTxu1OTjQMRiLcbJAtdECo=                                           0.0   \n",
       "\n",
       "msno                                          zyCQN/h38OmzYOsR6ecE+b7GFkO2eCHoxT1tXoFdUjA=  \n",
       "song_id                                                                                     \n",
       "++7GdTgp8zbQLYOki7hVPEOHpu+KLZClsGrGiEuL2uI=                                           0.0  \n",
       "++NP2gO99EW6w6sm4E1XP20nx8FhbBxsK9fOvbPHwd0=                                           0.0  \n",
       "++QfzyM/LiFaCuvkDFK/wJe13ZEMgTgAaVCcolo7nnY=                                           0.0  \n",
       "++chbCzz+7BYhLH5svRrj4AM37B1bTcC5O77wxODrVo=                                           0.0  \n",
       "++e0ms2cYxLeFjxP/I5Gjl1M68g6/xMCK6/HY8WxBwg=                                           0.0  \n",
       "++ezxSWRgPo7VimLbuChif2kuAZI5G6bmKuDdautYtw=                                           0.0  \n",
       "++k2aqGPJ7/9yGGPnlhalRdVulwbgHrLHNt1OD3rr9w=                                           0.0  \n",
       "++zVwIlQiLwQOLumYfwBvz0z8XQ+/Gu7Wkry54DDrxk=                                           0.0  \n",
       "+/6cHy+URZb0OhcMuP3r/KsmsSsiHKKTL0NA+K8IFtQ=                                           0.0  \n",
       "+/PIoXfl6Liwl3TJlq9NLhm40xAkW6wvKonjFijYh38=                                           0.0  \n",
       "+/ccRa2fetuCKRbkfxtpensnKBnig/6o5HpNHJHpHds=                                           0.0  \n",
       "+/eQ+RnO+weCVRUqD4FemhiSzByya7OwKwq1mCrn5OM=                                           0.0  \n",
       "+/h007EQIhRD6SmFiCIDQe4iVkwZ962aYCKPEod4P1k=                                           0.0  \n",
       "+00skobQwnJk5A7n7k3JYO7Qcs+wiYDGvbHZ33K8dHk=                                           0.0  \n",
       "+0BxvX5gzcaHvn25x3BBVZWp3+A3TGPTnPXEdumTsKg=                                           0.0  \n",
       "+0dgMEGn6S+g5/Jy+CnYukqlUY08Q+NN0/frwJq4rAQ=                                           0.0  \n",
       "+0mTGQqRUruyn6ovws2qJ/PCpz+WlQ6QB8tc9psDuK4=                                           0.0  \n",
       "+1+wPQaxvBIJDnbhaxkqWdN9s7iHtiY5aC452GfKGrU=                                           0.0  \n",
       "+11cGGhMIN0QqBhZoO3ijrUr/pMXwM1zEQzYWWE00OA=                                           0.0  \n",
       "+13MfPvGv321Qw5smYDQ4UTxu1OTjQMRiLcbJAtdECo=                                           0.0  \n",
       "\n",
       "[20 rows x 1960 columns]"
      ]
     },
     "execution_count": 74,
     "metadata": {},
     "output_type": "execute_result"
    }
   ],
   "source": [
    "songs_features.head(20)"
   ]
  },
  {
   "cell_type": "markdown",
   "metadata": {},
   "source": [
    "Because the system will output the id of the song, instead of the title, we'll make a function that maps those indices with the song title."
   ]
  },
  {
   "cell_type": "code",
   "execution_count": 66,
   "metadata": {},
   "outputs": [],
   "source": [
    "unique_songs = songs.drop_duplicates(subset=['song_id']).reset_index(drop=True)[['song_id', 'name']]"
   ]
  },
  {
   "cell_type": "code",
   "execution_count": 67,
   "metadata": {},
   "outputs": [],
   "source": [
    "decode_id_song = {\n",
    "    song: i for i, song in \n",
    "    enumerate(list(unique_songs.set_index('song_id').loc[songs_features.index].name))\n",
    "}"
   ]
  },
  {
   "cell_type": "markdown",
   "metadata": {},
   "source": [
    "#### Model and recommendation"
   ]
  },
  {
   "cell_type": "markdown",
   "metadata": {},
   "source": [
    "We know that we want to use the model to predict songs. For that, we'll use the `Recommender` class wrote in the `knn_recommender` file."
   ]
  },
  {
   "cell_type": "code",
   "execution_count": 68,
   "metadata": {},
   "outputs": [],
   "source": [
    "from recommeders.knn_recommender import Recommender"
   ]
  },
  {
   "cell_type": "code",
   "execution_count": 69,
   "metadata": {},
   "outputs": [],
   "source": [
    "model = Recommender(metric='cosine', algorithm='brute', k=20, data=mat_songs_features, decode_id_song=decode_id_song)"
   ]
  },
  {
   "cell_type": "code",
   "execution_count": 71,
   "metadata": {},
   "outputs": [],
   "source": [
    "song = 'Closer'"
   ]
  },
  {
   "cell_type": "code",
   "execution_count": 72,
   "metadata": {},
   "outputs": [
    {
     "name": "stdout",
     "output_type": "stream",
     "text": [
      "Starting the recommendation process for Closer ...\n",
      "... Done\n"
     ]
    }
   ],
   "source": [
    "new_recommendations = model.make_recommendation(new_song=song, n_recommendations=10)"
   ]
  },
  {
   "cell_type": "code",
   "execution_count": 73,
   "metadata": {},
   "outputs": [
    {
     "name": "stdout",
     "output_type": "stream",
     "text": [
      "The recommendations for Closer are:\n",
      "['Uber', 'Se Muere un Hombre', 'Hurt', 'Long Hot Summer', \"We Don't Talk Anymore\", '#9 Dream', 'Both Sides Now', 'Cool', 'Stay The Night', '非常完美']\n"
     ]
    }
   ],
   "source": [
    "print(f\"The recommendations for {song} are:\")\n",
    "print(f\"{new_recommendations}\")"
   ]
  },
  {
   "cell_type": "markdown",
   "metadata": {},
   "source": [
    "### References"
   ]
  },
  {
   "cell_type": "markdown",
   "metadata": {},
   "source": [
    "* https://www.kaggle.com/competitions/kkbox-music-recommendation-challenge/overview\n",
    "\n",
    "* https://en.wikipedia.org/wiki/Recommender_system\n",
    "\n",
    "* https://www.kaggle.com/code/infinator/music-recommendation-system\n",
    "\n",
    "* https://github.com/ugis22/music_recommender"
   ]
  }
 ],
 "metadata": {
  "kernelspec": {
   "display_name": "Python 3",
   "language": "python",
   "name": "python3"
  },
  "language_info": {
   "codemirror_mode": {
    "name": "ipython",
    "version": 3
   },
   "file_extension": ".py",
   "mimetype": "text/x-python",
   "name": "python",
   "nbconvert_exporter": "python",
   "pygments_lexer": "ipython3",
   "version": "3.7.4"
  }
 },
 "nbformat": 4,
 "nbformat_minor": 2
}
